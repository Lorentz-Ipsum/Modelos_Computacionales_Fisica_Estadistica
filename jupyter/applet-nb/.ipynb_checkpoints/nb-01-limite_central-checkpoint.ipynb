{
 "cells": [
  {
   "cell_type": "markdown",
   "metadata": {},
   "source": [
    "# Experimento 1: Teorema del límite central"
   ]
  },
  {
   "cell_type": "markdown",
   "metadata": {},
   "source": [
    "Supongamos que se genera un número grande $N$ de variables aleatorias independientes $X_i, i=1,...,N$, todas distribuidas con las misma distribución de probabilidad, de media $\\mu$ y varianza $\\sigma^2$. El Teorema del Límite Central nos dice que la variable aleatoria $Y$, construida como la suma de las anteriores:\n",
    "\n",
    "(1)\n",
    "$$\n",
    "Y=X_1 + X_2 +...+X_N\n",
    "$$\n",
    "\n",
    "se distribuye de forma gaussiana de media $N_\\mu$ y de varianza $\\sigma^2 /N$, independientemente de la distribución de las variables $X_i$. Entonces, la probabilidad de que la variable aleatoria $Y$ tome el valor $y$ viene dada por:\n",
    "\n",
    "(2)\n",
    "$$\n",
    "P_{Y}(y)=\\frac{1}{\\sqrt{2 \\pi N \\sigma^{2}}} \\exp \\left[-\\frac{(y-N \\mu)^{2}}{2 N \\sigma^{2}}\\right]\n",
    "$$\n",
    "\n",
    "Este teorema no deja de ser sorprendente: dice que *sea cual sea* la distribución con la que generamos ciertas variables aleatorias, su suma **siempre es gaussiana**, y tanto más estrecha cuantas más variables sumemos. Es por este teorema por el cual la distribución gaussiana juega un papel tan importante en Física: el efecto cooperativo de muchas factores aleatorios da como resultado una distribución gaussiana.\n",
    "\n",
    "Para ilustrarlo, hemos creado un applet Java en el cual se generan variables aleatorias, cuyo número se puede elegir, distribuidas de tres formas posibles:\n",
    "1. Uniformemente entre 1, 2, 3, 4, 5 ó 6 (como si fueran dados)\n",
    "2. Uniformemente en el intervalo real [0,1]\n",
    "3. Uniformemente entre 0 ó 1\n",
    "\n",
    "Pulsando el botón **INICIA** se comienzan a generar variables $Y=\\sum_i X_i$ y se construye el histograma de frecuencias de la variable $Y$ normalizado a la unidad, esto es, $P_Y (y)$, representado en color rojo. A la vez se dibuja en azul la distribución predicha por el teorema del límite central, ecuación (2).\n",
    "\n",
    "Es fácil ver que para $N \\gg 1$ la distribución de la variable $Y$ se acerca a la distribución gaussiana dada por la ecuación (2), sea cual sea la distribución de $X_i$. No sucede así, lógicamente, si el número de variables, $N$, es pequeño.\n",
    "\n",
    "Este applet está inspirado en uno creado por Todd Ogden, de la Universidad de South Carolina."
   ]
  },
  {
   "cell_type": "markdown",
   "metadata": {},
   "source": [
    "<video controls src=\"../Copias_Web/Videos/01-limite_central.mp4\"/>"
   ]
  },
  {
   "cell_type": "markdown",
   "metadata": {},
   "source": [
    "# Pseudocódigo"
   ]
  },
  {
   "cell_type": "markdown",
   "metadata": {},
   "source": [
    "1. Generar N numeros aleatorios con media Mu y varianza Sigma del tipo seleccionado.\n",
    "2. Construir Y = X_1 + X_2 +...+ X_N.\n",
    "3. Dibujar la gaussiana.\n",
    "4. Dibujar el histograma de frecuencias.\n",
    "\n",
    "El código sería algo así:\n",
    "\n",
    "```python\n",
    "N = seleccionar(numero)\n",
    "Tipo = seleccionar(dado, intervalo 0 1, moneda)\n",
    "\n",
    "def Generar_Variable(N, Tipo, tiempo):\n",
    "    Y[tiempo] = 0\n",
    "    for i in range(N):\n",
    "        X[i] = random(Tipo)\n",
    "        Y[tiempo] += X[i]\n",
    "    return Y[tiempo]\n",
    "\n",
    "def Gaussiana(N, Tipo):\n",
    "    ...\n",
    "    return y(x)\n",
    "\n",
    "if (INICIA = Presionado):\n",
    "    plot( Gaussiana )\n",
    "    while(tiempo > 0):\n",
    "        plot( Generar_Variable(N, tipo, tiempo) )\n",
    "        tiempo += 1\n",
    "    \n",
    "```"
   ]
  },
  {
   "cell_type": "markdown",
   "metadata": {},
   "source": [
    "# Código"
   ]
  },
  {
   "cell_type": "markdown",
   "metadata": {},
   "source": [
    "## Interfaz"
   ]
  },
  {
   "cell_type": "markdown",
   "metadata": {},
   "source": [
    "Primero, creamos la interfaz."
   ]
  },
  {
   "cell_type": "code",
   "execution_count": 23,
   "metadata": {
    "ExecuteTime": {
     "end_time": "2020-07-13T16:46:53.633887Z",
     "start_time": "2020-07-13T16:46:53.528969Z"
    },
    "hide_input": true
   },
   "outputs": [
    {
     "data": {
      "application/vnd.jupyter.widget-view+json": {
       "model_id": "7c762f3744c844f49f4320b9c69eb815",
       "version_major": 2,
       "version_minor": 0
      },
      "text/plain": [
       "Box(children=(Box(children=(Button(button_style='success', description='Inicia', layout=Layout(flex='1 1 auto'…"
      ]
     },
     "metadata": {},
     "output_type": "display_data"
    }
   ],
   "source": [
    "import ipywidgets as widgets\n",
    "\n",
    "form_item_layout = Layout(\n",
    "    display='flex',\n",
    "    flex_flow='row',\n",
    "    justify_content='space-between'\n",
    ")\n",
    "\n",
    "form_items = [\n",
    "    Box([\n",
    "        Button(\n",
    "            description='Inicia',\n",
    "            button_style='success',\n",
    "            tooltip='Empieza la simulación.',\n",
    "            layout=Layout(flex='1 1 auto', width='auto')\n",
    "        ),\n",
    "        widgets.ToggleButton(\n",
    "            value=False,\n",
    "            description='Pausa',\n",
    "            disabled=False,\n",
    "            button_style='info',\n",
    "            tooltip='Cuando está activado se para la simulación. Hay que volver a pulsarlo para que vuelva a calcular.',\n",
    "            layout=Layout(flex='1 1 auto', width='auto')\n",
    "        )], \n",
    "    layout=form_item_layout),\n",
    "    \n",
    "    Box([Label(value='Número de Variables'), IntSlider(min=1, max=60)], layout=form_item_layout),\n",
    "    Box([Label(value='Tipo de Variables'),\n",
    "         Dropdown(options=['Dados (1 a 6)', 'Moneda (0 ó 1)', 'De 0 a 1 (contínuo)'])], layout=form_item_layout),\n",
    "    Box([Label(value='Velocidad'),\n",
    "         IntSlider(min=1, max=10)], layout=form_item_layout)\n",
    "]\n",
    "\n",
    "form = Box(form_items, layout=Layout(\n",
    "    display='flex',\n",
    "    flex_flow='column',\n",
    "    border='solid 2px',\n",
    "    align_items='stretch',\n",
    "    width='50%'\n",
    "))\n",
    "form"
   ]
  },
  {
   "cell_type": "markdown",
   "metadata": {},
   "source": [
    "Otra alternativa, quizá con más sentido."
   ]
  },
  {
   "cell_type": "code",
   "execution_count": 147,
   "metadata": {
    "ExecuteTime": {
     "end_time": "2020-07-13T17:29:45.212769Z",
     "start_time": "2020-07-13T17:29:45.112799Z"
    },
    "code_folding": [],
    "hide_input": false,
    "scrolled": false
   },
   "outputs": [
    {
     "data": {
      "application/vnd.jupyter.widget-view+json": {
       "model_id": "fa7760ce0e1f4d3a822cd8989b81a5b0",
       "version_major": 2,
       "version_minor": 0
      },
      "text/plain": [
       "Box(children=(Box(children=(ToggleButton(value=False, button_style='success', description='Inicia / Pausa', la…"
      ]
     },
     "metadata": {},
     "output_type": "display_data"
    }
   ],
   "source": [
    "N = IntSlider(min=1, max=60)\n",
    "Tipos = [('Dados (1 a 6)', 'Dado'), ('Moneda (0 ó 1)', 'Moneda'), ('De 0 a 1 (contínuo)', 'Continuo')]\n",
    "# He movido aqui los valores a elegir, no sé si así será más facil sacarlos de los widgets\n",
    "\n",
    "form_item_layout = Layout(\n",
    "    display='flex',\n",
    "    flex_flow='row',\n",
    "    justify_content='space-between'\n",
    ")\n",
    "\n",
    "form_items2 = [\n",
    "    Box([\n",
    "        widgets.ToggleButton(\n",
    "            value=False,\n",
    "            description='Inicia / Pausa',\n",
    "            disabled=False,\n",
    "            button_style='success',\n",
    "            tooltip='Empieza o pausa la simulación.',\n",
    "            layout=Layout(flex='1 1 auto', width='auto')\n",
    "        ),\n",
    "        Button(\n",
    "            description='Reinicia',\n",
    "            button_style='info',\n",
    "            tooltip='Reinicializa los valores a los elegidos con los widgets.',\n",
    "            layout=Layout(flex='1 1 auto', width='auto')\n",
    "        )], \n",
    "    layout=form_item_layout),\n",
    "    \n",
    "    Box([Label(value='Número de Variables'), N], layout=form_item_layout),\n",
    "    Box([Label(value='Tipo de Variables'),\n",
    "         Dropdown(options=Tipos)], layout=form_item_layout),\n",
    "    Box([Label(value='Velocidad'),\n",
    "         IntSlider(min=1, max=10)], layout=form_item_layout)\n",
    "]\n",
    "\n",
    "form2 = Box(form_items, layout=Layout(\n",
    "    display='flex',\n",
    "    flex_flow='column',\n",
    "    border='solid 2px',\n",
    "    align_items='stretch',\n",
    "    width='50%'\n",
    "))\n",
    "form2"
   ]
  },
  {
   "cell_type": "code",
   "execution_count": 146,
   "metadata": {
    "ExecuteTime": {
     "end_time": "2020-07-13T17:27:41.808000Z",
     "start_time": "2020-07-13T17:27:41.793842Z"
    }
   },
   "outputs": [
    {
     "data": {
      "text/plain": [
       "[('Dados (1 a 6)', 'Dado'),\n",
       " ('Moneda (0 ó 1)', 'Moneda'),\n",
       " ('De 0 a 1 (contínuo)', 'Continuo')]"
      ]
     },
     "execution_count": 146,
     "metadata": {},
     "output_type": "execute_result"
    }
   ],
   "source": [
    "Tipos"
   ]
  },
  {
   "cell_type": "markdown",
   "metadata": {},
   "source": [
    "## Funciones"
   ]
  },
  {
   "cell_type": "markdown",
   "metadata": {},
   "source": [
    "Segundo, definimos las funciones necesarias."
   ]
  },
  {
   "cell_type": "code",
   "execution_count": 44,
   "metadata": {
    "ExecuteTime": {
     "end_time": "2020-07-13T17:11:23.627808Z",
     "start_time": "2020-07-13T17:11:23.620812Z"
    }
   },
   "outputs": [],
   "source": [
    "import random\n",
    "random.seed(123)\n",
    "\n",
    "def Genera_Dado():\n",
    "    result = random.randint(1,6)\n",
    "    return result\n",
    "    \n",
    "def Genera_Moneda():\n",
    "    result = random.randint(0,1)\n",
    "    return result\n",
    "\n",
    "def Genera_Continuo():\n",
    "    result = random.uniform(0,1)\n",
    "    return result\n",
    "\n",
    "def Generar_Variable_Suma(N, Tipo):\n",
    "    Y = 0\n",
    "    if Tipo == 'Dado':\n",
    "        for i in range(N):\n",
    "            X = Genera_Dado()\n",
    "            Y += X\n",
    "    if Tipo == 'Moneda':\n",
    "        for i in range(N):\n",
    "            X = Genera_Moneda()\n",
    "            Y += X\n",
    "    if Tipo == 'Continuo':\n",
    "        for i in range(N):\n",
    "            X = Genera_Continuo()\n",
    "            Y += X\n",
    "    return Y\n"
   ]
  },
  {
   "cell_type": "code",
   "execution_count": 84,
   "metadata": {
    "ExecuteTime": {
     "end_time": "2020-07-13T17:11:56.069606Z",
     "start_time": "2020-07-13T17:11:56.059775Z"
    }
   },
   "outputs": [
    {
     "data": {
      "text/plain": [
       "0.7687947474799836"
      ]
     },
     "execution_count": 84,
     "metadata": {},
     "output_type": "execute_result"
    }
   ],
   "source": [
    "Generar_Variable_Suma(1, 'Continuo')"
   ]
  },
  {
   "cell_type": "markdown",
   "metadata": {},
   "source": [
    "Intentando tener una output de una de las funciones de forma que use los valores del formulario. **Sin éxito aún**"
   ]
  },
  {
   "cell_type": "code",
   "execution_count": 142,
   "metadata": {
    "ExecuteTime": {
     "end_time": "2020-07-13T17:25:56.914075Z",
     "start_time": "2020-07-13T17:25:56.884515Z"
    },
    "scrolled": true
   },
   "outputs": [
    {
     "data": {
      "application/vnd.jupyter.widget-view+json": {
       "model_id": "d79f0a95e3ab46a19fb0957958e1a443",
       "version_major": 2,
       "version_minor": 0
      },
      "text/plain": [
       "Box(children=(Box(children=(ToggleButton(value=False, button_style='success', description='Inicia / Pausa', la…"
      ]
     },
     "metadata": {},
     "output_type": "display_data"
    },
    {
     "data": {
      "text/plain": [
       "2"
      ]
     },
     "metadata": {},
     "output_type": "display_data"
    }
   ],
   "source": [
    "from IPython.display import display\n",
    "output = Generar_Variable_Suma(N.value, 'Dado')\n",
    "\n",
    "display(form, output)"
   ]
  },
  {
   "cell_type": "markdown",
   "metadata": {},
   "source": [
    "## Gráficas y animación"
   ]
  },
  {
   "cell_type": "markdown",
   "metadata": {},
   "source": []
  },
  {
   "cell_type": "code",
   "execution_count": null,
   "metadata": {},
   "outputs": [],
   "source": [
    "\n",
    "def Gaussiana(N, Tipo):\n",
    "    ...\n",
    "    return y(x)\n"
   ]
  },
  {
   "cell_type": "markdown",
   "metadata": {},
   "source": [
    "## Juntarlo todo"
   ]
  },
  {
   "cell_type": "markdown",
   "metadata": {},
   "source": []
  },
  {
   "cell_type": "code",
   "execution_count": null,
   "metadata": {},
   "outputs": [],
   "source": [
    "if "
   ]
  },
  {
   "cell_type": "code",
   "execution_count": null,
   "metadata": {},
   "outputs": [],
   "source": [
    "if (INICIA = Presionado):\n",
    "    plot( Gaussiana )\n",
    "    while(tiempo > 0):\n",
    "        plot( Generar_Variable(N, tipo, tiempo) )\n",
    "        tiempo += 1"
   ]
  },
  {
   "cell_type": "markdown",
   "metadata": {},
   "source": [
    "# Pruebas"
   ]
  },
  {
   "cell_type": "code",
   "execution_count": 9,
   "metadata": {
    "ExecuteTime": {
     "end_time": "2020-07-11T10:57:05.427635Z",
     "start_time": "2020-07-11T10:57:05.257636Z"
    },
    "scrolled": true
   },
   "outputs": [
    {
     "data": {
      "image/png": "[encoded data removed]",
      "text/plain": [
       "<Figure size 432x288 with 1 Axes>"
      ]
     },
     "metadata": {},
     "output_type": "display_data"
    }
   ],
   "source": [
    "%matplotlib inline\n",
    "\n",
    "import matplotlib.pyplot as plt\n",
    "import matplotlib.animation as animation\n",
    "from matplotlib import style\n",
    "\n",
    "style.use('fivethirtyeight')\n",
    "\n",
    "fig = plt.figure()\n",
    "ax1 = fig.add_subplot(1,1,1)\n",
    "\n",
    "\"\"\"\"\n",
    "def animate(i):\n",
    "    xs = []\n",
    "    ys = []\n",
    "    for k in range(t):\n",
    "        xs.append(k)\n",
    "        ys.append(ye[k])\n",
    "    ax1.clear()\n",
    "    ax1.plot(xs, ys)\n",
    "\"\"\"\n",
    "\n",
    "def animate(i):\n",
    "    graph_data = open('example.txt','r').read()\n",
    "    lines = graph_data.split('\\n')\n",
    "    xs = []\n",
    "    ys = []\n",
    "    for line in lines:\n",
    "        if len(line) > 1:\n",
    "            x, y = line.split(',')\n",
    "            xs.append(float(x))\n",
    "            ys.append(float(y))\n",
    "    ax1.clear()\n",
    "    ax1.plot(xs, ys)\n",
    "\n",
    "ani = animation.FuncAnimation(fig, animate, interval=1000)\n",
    "plt.show()\n"
   ]
  },
  {
   "cell_type": "code",
   "execution_count": 7,
   "metadata": {
    "ExecuteTime": {
     "end_time": "2020-07-11T10:57:02.197670Z",
     "start_time": "2020-07-11T10:57:02.167772Z"
    }
   },
   "outputs": [
    {
     "name": "stdout",
     "output_type": "stream",
     "text": [
      "[40.96521430721678, -26.928210731102695, -49.43692749907795, -14.896172502295949, 13.360607247327177, 32.7744577983638, -34.536896057989324, -10.84633260580224, -9.433730575631847, 22.21762374757277, -27.983664897808502, -1.3640818604012495, 42.47781602331863, 11.463338309275386, 21.621492208233768, 49.726881507090134, -0.36237530099744886, 46.851993986468734, -3.8098640387316687, 2.8532114400123496]\n"
     ]
    }
   ],
   "source": [
    "import math\n",
    "from random import gauss\n",
    "\n",
    "N = 100\n",
    "media = 0\n",
    "varianza = 10\n",
    "t = 20\n",
    "ye = []\n",
    "\n",
    "for j in range(t):\n",
    "    X = [gauss(media, math.sqrt(varianza)) for i in range(N)]\n",
    "\n",
    "    Y = 0\n",
    "    for i in range(N):\n",
    "        Y = Y + X[i]\n",
    "    #print(Y)\n",
    "    ye.append(Y)\n",
    "\n",
    "print(ye)"
   ]
  },
  {
   "cell_type": "code",
   "execution_count": 8,
   "metadata": {
    "ExecuteTime": {
     "end_time": "2020-07-11T10:57:03.837470Z",
     "start_time": "2020-07-11T10:57:03.819619Z"
    }
   },
   "outputs": [],
   "source": [
    "file = open(\"example.txt\",\"w+\")\n",
    "\n",
    "for i in range(t):\n",
    "    file.write(str(i+1)+\",\"+str(ye[i])+\"\\n\")\n",
    "\n",
    "file.close()"
   ]
  }
 ],
 "metadata": {
  "hide_input": false,
  "kernelspec": {
   "display_name": "Python 3",
   "language": "python",
   "name": "python3"
  },
  "language_info": {
   "codemirror_mode": {
    "name": "ipython",
    "version": 3
   },
   "file_extension": ".py",
   "mimetype": "text/x-python",
   "name": "python",
   "nbconvert_exporter": "python",
   "pygments_lexer": "ipython3",
   "version": "3.7.7"
  },
  "toc": {
   "base_numbering": 1,
   "nav_menu": {},
   "number_sections": true,
   "sideBar": true,
   "skip_h1_title": false,
   "title_cell": "Table of Contents",
   "title_sidebar": "Contents",
   "toc_cell": false,
   "toc_position": {},
   "toc_section_display": true,
   "toc_window_display": false
  },
  "varInspector": {
   "cols": {
    "lenName": 16,
    "lenType": 16,
    "lenVar": 40
   },
   "kernels_config": {
    "python": {
     "delete_cmd_postfix": "",
     "delete_cmd_prefix": "del ",
     "library": "var_list.py",
     "varRefreshCmd": "print(var_dic_list())"
    },
    "r": {
     "delete_cmd_postfix": ") ",
     "delete_cmd_prefix": "rm(",
     "library": "var_list.r",
     "varRefreshCmd": "cat(var_dic_list()) "
    }
   },
   "types_to_exclude": [
    "module",
    "function",
    "builtin_function_or_method",
    "instance",
    "_Feature"
   ],
   "window_display": false
  }
 },
 "nbformat": 4,
 "nbformat_minor": 4
}
