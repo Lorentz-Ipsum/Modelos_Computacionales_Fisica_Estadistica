{
 "cells": [
  {
   "cell_type": "markdown",
   "metadata": {},
   "source": [
    "# Experimento 11: Modelo de Ising"
   ]
  },
  {
   "cell_type": "markdown",
   "metadata": {},
   "source": [
    "El ferromagnetismo, que aparece en muchos metales ordinarios como el hierro y el níquel, es la presencia de magnetización espontánea incluso cuando no hay campo magnético externo. Se debe a que una fracción importante de los momentos magnéticos (o espines) de los átomos se alinean en la misma dirección debido a la interacción entre los mismos, dando lugar a que la muestra se imane. Este alineamiento se produce únicamente a temperaturas bajas, por debajo de una temperatura característica llamada *temperatura de Curie*, $T_C$.\n",
    "\n",
    "Por encima de dicha temperatura los espines están orientados al azar, de forma que no hay un campo magnético neto. En la temperatura de Curie, $T_C$, como en toda transición, aparece una fenomenología diferente: por ejemplo, el calor específico es divergente y la energía y la magnetización tienen derivada discontínua.\n",
    "\n",
    "El modelo de Ising es un modelo sencillo para el estudio de la transición ferromagnética, que es resoluble analíticamente. Se parte de una red regular, que imita la red cristalina del hierro o níquel, en cuyos sitios se colocan un momento magnético o espín $s_i$ que puede tomar los valores +1 ó -1. La energía de interacción entre los espines $i$ y $j$ (supuesto que están en sitios contiguos de la red) es de la forma:\n",
    "\n",
    "(1)\n",
    "$$\n",
    "H_{ij} = -J s_i s_j\n",
    "$$\n",
    "\n",
    "en la que $J$ es la energía de interacción, supuesta positiva, $J>0$. La forma del hamiltoniano es tal que favorece que los espines estén alineados, porque si $s_i = s_j$ entonces la energía disminuye en una cantidad $J$. Si existe un campo magnético externo, $B$, los momentos magnéticos interaccionan con él con una energía: $H_B = -B s_i$. El hamiltoniano total es entonces:\n",
    "\n",
    "(2)\n",
    "$$\n",
    "H(\\{s_i\\}) = -J \\sum_{\\langle i, j \\rangle}s_i s_j - B\\sum_i s_i\n",
    "$$\n",
    "\n",
    "donde la notación $\\langle i, j \\rangle$ indica suma a espines contiguos.\n",
    "\n",
    "¿Por qué se produce la transición de fase? Si sólo tuviéramos en cuenta la energía y tratáramos de minimizarla, entonces la fase del sistema sería una fase perfectamente ordenada, y, por tanto, ferromagnética. Sin embargo, existe el efecto de la temperatura que provoca un efecto aleatorio en el que los espines pueden cambiar su valor al azar. Este efecto es más alto cuánto más alta es la temepratura, y por ello, temperaturas altas dan lugar a fases desordenadas. Dependiendo de cuál sea el efecto dominante entre ambos (energía versus temperatura), aparecerán fases ferromagnéticas o no.\n",
    "\n",
    "La magnetización del sistema es el valor medio de la suma de los valores de los momentos magnéticos:\n",
    "\n",
    "(3)\n",
    "$$\n",
    "M = \\left \\langle \\sum_i s_i \\right \\rangle\n",
    "$$\n",
    "\n",
    "Esta magnetización puede calcularse utilizando la colectividad canónica por medio de la función de partición\n",
    "\n",
    "(4)\n",
    "$$\n",
    "Z(T,B) = \\sum_{s_1} \\sum_{s_2}...\\sum_{s_N} \\exp \\left( -\\frac{H(\\{s_i\\})}{k_B T} \\right)\n",
    "$$\n",
    "\n",
    "a partir de la cual se puede calcular la magnetización como:\n",
    "\n",
    "(5)\n",
    "$$\n",
    "M = - \\frac{1}{k_B T} \\left( \\frac{\\partial \\ln Z}{\\partial B} \\right)_ {B=0}\n",
    "$$\n",
    "\n",
    "Se puede comprobar fácilmente que la expresión (5) coincide con (3).\n",
    "\n",
    "Para sistemas en dimensión 1, se puede calcular (4) y (5) de forma sencilla, comprobándose que *no existe transición de fase*. En dimensión 1 los efectos del desorden inducido por la temperatura son siempre dominantes. Sin embargo, en dimensión 2 y superiores sí que existe la transición de fase. En dos dimensiones, el cálculo de (4) y (5) es posible aunque muy complicado (ver el libro de Huang). Se encuentra que la temperatura de transición (cuando $B=0$) está en:\n",
    "\n",
    "$$\n",
    "\\frac{J}{k_B T_C} \\equiv j_C = 0.4407\n",
    "$$\n",
    "\n",
    "En esta ecuación hemos definido $j \\equiv \\frac{J}{k_B T_C}$, que es el único parámetro relevante al tomar $B=0$.\n",
    "\n",
    "El applet que hemos preparado realiza una simulación [Monte Carlo](adicional/monte_carlo.md) del modelo de Ising bidimensional. Se puede elegir el tamaño de la red desde $8\\times 8$ hasta $128 \\times 128$, así como el dato inicial (espines +1 ó -1 de forma aleatoria o bien todos fijados a -1), y la constante de interacción $j$. Al pulsar **GENERA RED** comienza la simulación. En el panel de la izquierda se muestran los espines ($s_i = +1$ en amarillo y $s_i = -1$ en azul), y en el de la derecha la magnetización. La línea azul está localizada en la temperatura crítica $T_C$.\n",
    "\n",
    "Los simulaciones realizadas a temperaturas altas ($j$ pequeño) relajan rápidamente a su valor de equilibrio. Sin embargo, a temperaturas bajas ($j$ grande) puede tardar más, salvo que se parta de una configuración con todos los espines con valor -1. En temperaturas cercanas a la crítica, $T \\simeq T_C$ ó $j \\simeq j_C$, la relajación es también muy lenta, dado que $T_C$ es un punto crítico, con correlaciones de largo alcance y fluctuaciones muy importantes."
   ]
  },
  {
   "cell_type": "markdown",
   "metadata": {},
   "source": [
    "<video controls src=\"../Copias_Web/Videos/11-ising.mp4\"/>"
   ]
  },
  {
   "cell_type": "markdown",
   "metadata": {},
   "source": [
    "# Pseudocódigo"
   ]
  },
  {
   "cell_type": "markdown",
   "metadata": {},
   "source": [
    "1. Genera la red, aleatoria o todos los espines iguales.\n",
    "2. Evoluciona el modelo:\n",
    "   1. Simulación de Monte Carlo, comprobar contribuciones del resto de espines.\n",
    "   2. Cambiar (o no, dependiendo de la T) la orientación de los sitios.\n",
    "   3. Calcula la magnetización\n",
    "3. Repite 2.\n",
    "\n",
    "El código sería algo así:\n",
    "\n",
    "```python\n",
    "if (INICIA = Presionado):\n",
    "    Generar_Variables\n",
    "    \n",
    "```"
   ]
  },
  {
   "cell_type": "markdown",
   "metadata": {},
   "source": [
    "# Simulación optimizada con Cython"
   ]
  },
  {
   "cell_type": "code",
   "execution_count": 3,
   "metadata": {},
   "outputs": [],
   "source": [
    "import numpy as np\n",
    "\n",
    "def random_spin_field(N, M):\n",
    "    return np.random.choice([-1, 1], size = (N, M))"
   ]
  },
  {
   "cell_type": "code",
   "execution_count": 4,
   "metadata": {},
   "outputs": [],
   "source": [
    "from PIL import Image\n",
    "\n",
    "def display_spin_field(field):\n",
    "    # return Image.fromarray(field) # See docs. fromarray expects numbers 0..255\n",
    "    return Image.fromarray(np.uint8((field + 1) * 0.5 * 255)) # uint8 gives 8bit unassigned integer"
   ]
  },
  {
   "cell_type": "code",
   "execution_count": 5,
   "metadata": {},
   "outputs": [
    {
     "name": "stdout",
     "output_type": "stream",
     "text": [
      "The Cython extension is already loaded. To reload it, use:\n",
      "  %reload_ext Cython\n"
     ]
    }
   ],
   "source": [
    "%load_ext Cython"
   ]
  },
  {
   "cell_type": "code",
   "execution_count": 9,
   "metadata": {},
   "outputs": [],
   "source": [
    "%%cython\n",
    "\n",
    "cimport cython\n",
    "\n",
    "import numpy as np\n",
    "cimport numpy as cnp\n",
    "\n",
    "from libc.math cimport exp \n",
    "from libc.stdlib cimport rand\n",
    "cdef extern from \"limits.h\":\n",
    "    int RAND_MAX\n",
    "\n",
    "cpdef cy_ising_step(cnp.int64_t[:, :] field, float beta=0.4):\n",
    "    cdef int N = field.shape[0]\n",
    "    cdef int M = field.shape[1]\n",
    "    cdef int n_offset, m_offset, n, m\n",
    "    for n_offset in range(2):\n",
    "        for m_offset in range(2):\n",
    "            for n in range(n_offset, N, 2):\n",
    "                for m in range(m_offset, M, 2):\n",
    "                    _cy_ising_update(field, n, m, beta)\n",
    "    return np.array(field)\n",
    "\n",
    "cdef _cy_ising_update(cnp.int64_t[:, :] field, int n, int m, float beta):\n",
    "    cdef int total = 0\n",
    "    cdef int N = field.shape[0]\n",
    "    cdef int M = field.shape[1]\n",
    "    cdef int i, j\n",
    "    for i in range(n-1, n+2):\n",
    "        for j in range(m-1, m+2):\n",
    "            if i == n and j == m:\n",
    "                continue\n",
    "            total += field[i % N, j % M]\n",
    "    cdef float dE = 2 * field[n, m] * total\n",
    "    if dE <= 0:\n",
    "        field[n, m] *= -1\n",
    "    elif exp(-dE * beta) * RAND_MAX > rand():\n",
    "        field[n, m] *= -1\n",
    "  "
   ]
  },
  {
   "cell_type": "code",
   "execution_count": 12,
   "metadata": {},
   "outputs": [],
   "source": [
    "def ising_model(N, M, nbet, nframe):\n",
    "    init = random_spin_field(N, M)\n",
    "    img = np.ndarray((nbet, nframe), dtype = object)\n",
    "    \n",
    "    for be in range(nbet):\n",
    "        img[be][0] = init\n",
    "        for i in range(1,nframe):\n",
    "            img[be][i]=(cy_ising_step(np.int64(img[be][i-1].copy()), (be+1)/10))\n",
    "    return img"
   ]
  },
  {
   "cell_type": "code",
   "execution_count": 20,
   "metadata": {},
   "outputs": [],
   "source": [
    "import ipywidgets as widgets\n",
    "\n",
    "def dob_display_ising_sequence(images, nbet, nframe):\n",
    "    def _show(frame=(0, nframe - 1), beta = (0, nbet-1)):\n",
    "        return display_spin_field(images[beta][frame])\n",
    "    return widgets.interact(_show)"
   ]
  },
  {
   "cell_type": "code",
   "execution_count": 17,
   "metadata": {},
   "outputs": [],
   "source": [
    "beta_steps = 10\n",
    "frames = 20\n",
    "img = ising_model(400, 400, beta_steps, frames)"
   ]
  },
  {
   "cell_type": "code",
   "execution_count": 21,
   "metadata": {},
   "outputs": [
    {
     "data": {
      "application/vnd.jupyter.widget-view+json": {
       "model_id": "6de8890c4d984a9ca21d6197352c8600",
       "version_major": 2,
       "version_minor": 0
      },
      "text/plain": [
       "interactive(children=(IntSlider(value=9, description='frame', max=19), IntSlider(value=4, description='beta', …"
      ]
     },
     "metadata": {},
     "output_type": "display_data"
    },
    {
     "data": {
      "text/plain": [
       "<function __main__.dob_display_ising_sequence.<locals>._show(frame=(0, 19), beta=(0, 9))>"
      ]
     },
     "execution_count": 21,
     "metadata": {},
     "output_type": "execute_result"
    }
   ],
   "source": [
    "dob_display_ising_sequence(img, beta_steps, frames)"
   ]
  },
  {
   "cell_type": "markdown",
   "metadata": {},
   "source": [
    "# Más sobre Widgets:\n",
    "\n",
    "[Aquí](https://jons-widgets-fork.readthedocs.io/en/nicedocs/test.html)\n",
    "\n",
    "### Trabajo próximo:\n",
    "\n",
    "- [ ] Implementar desplegables para elegir tamaño de la red.\n",
    "- [ ] Implementar un botón para ejecutar la simulación.\n",
    "- [ ] Añadir función para calcular calor específico.\n",
    "- [ ] Añadir función para calcular magnetización total.\n",
    "- [ ] Añadir funciones para mostrar ambas magnitudes.\n",
    "- [ ] Juntar todo en un sólo applet. "
   ]
  },
  {
   "cell_type": "code",
   "execution_count": 24,
   "metadata": {},
   "outputs": [
    {
     "data": {
      "application/vnd.jupyter.widget-view+json": {
       "model_id": "07beb75936d7483884ad91cafe128851",
       "version_major": 2,
       "version_minor": 0
      },
      "text/plain": [
       "ToggleButton(value=False, description='Click me')"
      ]
     },
     "metadata": {},
     "output_type": "display_data"
    }
   ],
   "source": [
    "boton = widgets.ToggleButton(\n",
    "    description='Click me',\n",
    "    value=False,\n",
    ")\n",
    "boton\n",
    "\n"
   ]
  },
  {
   "cell_type": "code",
   "execution_count": 26,
   "metadata": {},
   "outputs": [
    {
     "name": "stdout",
     "output_type": "stream",
     "text": [
      "True\n"
     ]
    }
   ],
   "source": [
    "print(boton.value)"
   ]
  }
 ],
 "metadata": {
  "kernelspec": {
   "display_name": "Python 3",
   "language": "python",
   "name": "python3"
  },
  "language_info": {
   "codemirror_mode": {
    "name": "ipython",
    "version": 3
   },
   "file_extension": ".py",
   "mimetype": "text/x-python",
   "name": "python",
   "nbconvert_exporter": "python",
   "pygments_lexer": "ipython3",
   "version": "3.7.7"
  }
 },
 "nbformat": 4,
 "nbformat_minor": 4
}
