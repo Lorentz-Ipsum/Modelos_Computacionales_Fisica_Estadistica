{
 "cells": [
  {
   "cell_type": "markdown",
   "metadata": {},
   "source": [
    "# Modelo de Ising con Cython"
   ]
  },
  {
   "cell_type": "markdown",
   "metadata": {},
   "source": [
    "(Siguiendo el [tutorial de Jake Vanderplas](http://jakevdp.github.io/blog/2017/12/11/live-coding-cython-ising-model/))"
   ]
  },
  {
   "cell_type": "markdown",
   "metadata": {},
   "source": [
    "## 1. Código de una simulación del Modelo de Ising"
   ]
  },
  {
   "cell_type": "markdown",
   "metadata": {},
   "source": [
    "(Siguiendo el [post de Matthew Rocklin](https://matthewrocklin.com/blog/work/2015/02/28/Ising))\n",
    "\n",
    "[Link al video de Jake VanderPlas (1)](https://www.youtube.com/watch?v=rN7g4gzO2sk)\n",
    "\n",
    "    for cada_punto in la_red:\n",
    "        energia = mi_espin * suma_de_todos_los_espines_de_puntos_vecinos\n",
    "        if energia mejora_cambiando_espin:\n",
    "            cambia\n",
    "        else if no_particularmente\n",
    "            cambia_de_todas_formas\n",
    "           "
   ]
  },
  {
   "cell_type": "markdown",
   "metadata": {},
   "source": [
    "### Trabajo Previo"
   ]
  },
  {
   "cell_type": "markdown",
   "metadata": {},
   "source": [
    "Funciones para crear un campo de espines y para mostrarlo."
   ]
  },
  {
   "cell_type": "code",
   "execution_count": 1,
   "metadata": {},
   "outputs": [],
   "source": [
    "import numpy as np\n",
    "\n",
    "def random_spin_field(N, M):\n",
    "    return np.random.choice([-1, 1], size = (N, M))"
   ]
  },
  {
   "cell_type": "code",
   "execution_count": 2,
   "metadata": {},
   "outputs": [
    {
     "data": {
      "text/plain": [
       "array([[-1,  1,  1, -1,  1,  1, -1,  1,  1,  1],\n",
       "       [ 1, -1,  1, -1,  1,  1,  1,  1,  1,  1],\n",
       "       [-1, -1, -1, -1,  1,  1,  1, -1, -1, -1],\n",
       "       [-1,  1,  1, -1,  1, -1, -1, -1, -1, -1],\n",
       "       [-1, -1,  1,  1,  1,  1,  1,  1,  1,  1],\n",
       "       [ 1,  1,  1,  1, -1,  1, -1, -1,  1,  1],\n",
       "       [ 1,  1, -1, -1, -1,  1,  1, -1,  1,  1],\n",
       "       [ 1,  1, -1,  1,  1,  1,  1,  1,  1, -1],\n",
       "       [-1,  1, -1,  1,  1, -1,  1, -1,  1, -1],\n",
       "       [-1,  1,  1, -1, -1,  1,  1, -1,  1,  1]])"
      ]
     },
     "execution_count": 2,
     "metadata": {},
     "output_type": "execute_result"
    }
   ],
   "source": [
    "random_spin_field(10,10)"
   ]
  },
  {
   "cell_type": "code",
   "execution_count": 3,
   "metadata": {},
   "outputs": [],
   "source": [
    "from PIL import Image\n",
    "\n",
    "def display_spin_field(field):\n",
    "    # return Image.fromarray(field) # See docs. fromarray expects numbers 0..255\n",
    "    return Image.fromarray(np.uint8((field + 1) * 0.5 * 255)) # uint8 gives 8bit unassigned integer"
   ]
  },
  {
   "cell_type": "code",
   "execution_count": 4,
   "metadata": {},
   "outputs": [
    {
     "data": {
      "image/png": "[encoded data removed]",
      "text/plain": [
       "<PIL.Image.Image image mode=L size=200x200 at 0x2AB7B8B2C88>"
      ]
     },
     "execution_count": 4,
     "metadata": {},
     "output_type": "execute_result"
    }
   ],
   "source": [
    "display_spin_field(random_spin_field(200, 200))"
   ]
  },
  {
   "cell_type": "markdown",
   "metadata": {},
   "source": [
    "## Ising Model"
   ]
  },
  {
   "cell_type": "code",
   "execution_count": 5,
   "metadata": {},
   "outputs": [],
   "source": [
    "def ising_step(field, beta=0.4):\n",
    "    N, M = field.shape\n",
    "    \n",
    "    # Offset para que no aparezca desplazado diagonalmente (probar con off_step = 1 para ver lo que me refiero)\n",
    "    off_step = 2\n",
    "    for n_offset in range(off_step):\n",
    "        for m_offset in range(off_step):\n",
    "            for n in range(n_offset, N, off_step):\n",
    "                for m in range(m_offset, M, off_step):\n",
    "                    _ising_update(field, n, m, beta)\n",
    "    return field\n",
    "\n",
    "#    for n in range(N):\n",
    "#        for m in range(M):\n",
    "#            _ising_update(field, n, m, beta)\n",
    "#    return field\n",
    "\n",
    "def _ising_update(field, n, m, beta):\n",
    "    total = 0\n",
    "    N, M = field.shape\n",
    "    for i in range(n-1, n+2):\n",
    "        for j in range(m-1, m+2):\n",
    "            if i == n and j == m:\n",
    "                continue\n",
    "            total += field[i % N, j % M]\n",
    "    dE = 2 * field[n, m] * total\n",
    "    if dE <= 0:\n",
    "        field[n, m] *= -1\n",
    "    elif np.exp(-dE * beta) > np.random.rand():\n",
    "        field[n, m] *= -1"
   ]
  },
  {
   "cell_type": "code",
   "execution_count": 6,
   "metadata": {},
   "outputs": [
    {
     "data": {
      "image/png": "[encoded data removed]",
      "text/plain": [
       "<PIL.Image.Image image mode=L size=200x200 at 0x2AB7B959BC8>"
      ]
     },
     "execution_count": 6,
     "metadata": {},
     "output_type": "execute_result"
    }
   ],
   "source": [
    "display_spin_field(ising_step(random_spin_field(200, 200), 0.4))"
   ]
  },
  {
   "cell_type": "markdown",
   "metadata": {},
   "source": [
    "### Animar una secuencia con ipywidgets"
   ]
  },
  {
   "cell_type": "code",
   "execution_count": 7,
   "metadata": {},
   "outputs": [],
   "source": [
    "from ipywidgets import interact\n",
    "\n",
    "def display_ising_sequence(images):\n",
    "    def _show(frame=(0, len(images) - 1)):\n",
    "        return display_spin_field(images[frame])\n",
    "    return interact(_show)"
   ]
  },
  {
   "cell_type": "markdown",
   "metadata": {},
   "source": [
    "Se va a tomar su tiempo en mostrarlo, estamos haciendo 6 bucles y python no está optimizado"
   ]
  },
  {
   "cell_type": "code",
   "execution_count": 8,
   "metadata": {
    "scrolled": true
   },
   "outputs": [
    {
     "data": {
      "image/png": "[encoded data removed]",
      "text/plain": [
       "<PIL.Image.Image image mode=L size=200x200 at 0x2AB7BA2F948>"
      ]
     },
     "metadata": {},
     "output_type": "display_data"
    },
    {
     "data": {
      "text/plain": [
       "<function __main__.display_ising_sequence.<locals>._show(frame=(0, 5))>"
      ]
     },
     "execution_count": 8,
     "metadata": {},
     "output_type": "execute_result"
    }
   ],
   "source": [
    "images = [random_spin_field(200, 200)]\n",
    "\n",
    "for i in range(5):\n",
    "    images.append(ising_step(images[-1].copy()))\n",
    "display_ising_sequence(images)"
   ]
  },
  {
   "cell_type": "markdown",
   "metadata": {},
   "source": [
    "Tarda, pero ¡ya está!\n",
    "El modelo de Ising en python."
   ]
  },
  {
   "cell_type": "markdown",
   "metadata": {},
   "source": [
    "## 2. Usar Cython para mejorar su rendimiento"
   ]
  },
  {
   "cell_type": "markdown",
   "metadata": {},
   "source": [
    "[Link al vídeo de Jake Vanderplas (2)](https://www.youtube.com/watch?v=LOzcSuw3yOY&feature=emb_title)"
   ]
  },
  {
   "cell_type": "markdown",
   "metadata": {},
   "source": [
    "Nota:\n",
    "Para usar `cython` en Windows es necesario tener C++ instalado, por ejemplo a través de Visual Studio Build Tools. Si no, saldrá un error `unable to find vcvarsall.bat`.\n",
    "Más detalles y la solución que me ha servido en [este enlace](https://stackoverflow.com/questions/53172601/error-unable-to-find-vcvarsall-bat-when-compiling-cython-code)"
   ]
  },
  {
   "cell_type": "markdown",
   "metadata": {},
   "source": [
    "Extensión para hacer cython fácilmente en un notebook:"
   ]
  },
  {
   "cell_type": "code",
   "execution_count": 9,
   "metadata": {},
   "outputs": [],
   "source": [
    "%load_ext Cython"
   ]
  },
  {
   "cell_type": "markdown",
   "metadata": {},
   "source": [
    "Sólo con añadir `%cython` ya mejora la velocidad un 10%.\n",
    "\n",
    "Pero para mejorar realmente el código de antes, tenemos que añadir tipos a todas las variables."
   ]
  },
  {
   "cell_type": "code",
   "execution_count": 10,
   "metadata": {},
   "outputs": [],
   "source": [
    "%%cython\n",
    "\n",
    "cimport cython\n",
    "\n",
    "import numpy as np\n",
    "cimport numpy as cnp\n",
    "\n",
    "from libc.math cimport exp \n",
    "from libc.stdlib cimport rand\n",
    "cdef extern from \"limits.h\":\n",
    "    int RAND_MAX\n",
    "\n",
    "cpdef cy_ising_step(cnp.int64_t[:, :] field, float beta=0.4):\n",
    "    cdef int N = field.shape[0]\n",
    "    cdef int M = field.shape[1]\n",
    "    cdef int n_offset, m_offset, n, m\n",
    "    for n_offset in range(2):\n",
    "        for m_offset in range(2):\n",
    "            for n in range(n_offset, N, 2):\n",
    "                for m in range(m_offset, M, 2):\n",
    "                    _cy_ising_update(field, n, m, beta)\n",
    "    return np.array(field)\n",
    "\n",
    "cdef _cy_ising_update(cnp.int64_t[:, :] field, int n, int m, float beta):\n",
    "    cdef int total = 0\n",
    "    cdef int N = field.shape[0]\n",
    "    cdef int M = field.shape[1]\n",
    "    cdef int i, j\n",
    "    for i in range(n-1, n+2):\n",
    "        for j in range(m-1, m+2):\n",
    "            if i == n and j == m:\n",
    "                continue\n",
    "            total += field[i % N, j % M]\n",
    "    cdef float dE = 2 * field[n, m] * total\n",
    "    if dE <= 0:\n",
    "        field[n, m] *= -1\n",
    "    elif exp(-dE * beta) * RAND_MAX > rand():\n",
    "        field[n, m] *= -1"
   ]
  },
  {
   "cell_type": "markdown",
   "metadata": {},
   "source": [
    "A veces en el siguiente paso sale el error `name error: cy_ising_step not defined`, que solucioné usando `cpdef` en la declaración según [esta respuesta de StackExchange](https://stackoverflow.com/questions/23658653/cythons-cdef-raises-a-nameerror-where-a-def-works-just-fine).\n",
    "\n",
    "Tengo que leer más sobre cython."
   ]
  },
  {
   "cell_type": "code",
   "execution_count": 11,
   "metadata": {},
   "outputs": [
    {
     "name": "stdout",
     "output_type": "stream",
     "text": [
      "621 ms ± 18.2 ms per loop (mean ± std. dev. of 7 runs, 1 loop each)\n",
      "5.04 ms ± 250 µs per loop (mean ± std. dev. of 7 runs, 100 loops each)\n"
     ]
    }
   ],
   "source": [
    "field = random_spin_field(200, 200)\n",
    "%timeit ising_step(field)\n",
    "%timeit cy_ising_step(np.int64(field))"
   ]
  },
  {
   "cell_type": "markdown",
   "metadata": {},
   "source": [
    "El flag `%cython -a` nos \"anota\" dónde está tomando más tiempo, para que podamos optimizar. \n",
    "\n",
    "Al hacer cosas con cython hay que importar las librerias de nuevo.\n",
    "\n",
    "```python\n",
    "from libc.math cimport exp \n",
    "from libc.stdlib cimport rand\n",
    "cdef extern from \"limits.h\":\n",
    "    int RAND_MAX\n",
    "```\n",
    "Estas tres lineas son para mejorar el rendimiento de `_cy_ising_update` usando directamente las funciones exponencial y random de C++. `RAND_MAX` lo sacamos de limits.h y lo usamos porque rand() de C++ da un número entre 0 y `RAND_MAX`.\n",
    "\n",
    "Parece que los comentarios no le gustan a cython porque # es un caracter reservado en C++. ¿?"
   ]
  },
  {
   "cell_type": "code",
   "execution_count": 12,
   "metadata": {},
   "outputs": [
    {
     "data": {
      "image/png": "[encoded data removed]",
      "text/plain": [
       "<PIL.Image.Image image mode=L size=200x200 at 0x2AB7C13A888>"
      ]
     },
     "execution_count": 12,
     "metadata": {},
     "output_type": "execute_result"
    }
   ],
   "source": [
    "display_spin_field(field)"
   ]
  },
  {
   "cell_type": "code",
   "execution_count": 13,
   "metadata": {
    "scrolled": true
   },
   "outputs": [
    {
     "data": {
      "image/png": "[encoded data removed]",
      "text/plain": [
       "<PIL.Image.Image image mode=L size=200x200 at 0x2AB7C16C1C8>"
      ]
     },
     "metadata": {},
     "output_type": "display_data"
    },
    {
     "data": {
      "text/plain": [
       "<function __main__.display_ising_sequence.<locals>._show(frame=(0, 30))>"
      ]
     },
     "execution_count": 13,
     "metadata": {},
     "output_type": "execute_result"
    }
   ],
   "source": [
    "images = [random_spin_field(200, 200)]\n",
    "\n",
    "for i in range(30):\n",
    "    images.append(cy_ising_step(np.int64(images[-1].copy()), 0.6))\n",
    "display_ising_sequence(np.int64(images))"
   ]
  },
  {
   "cell_type": "markdown",
   "metadata": {},
   "source": [
    "# 3. Más interactividad"
   ]
  },
  {
   "cell_type": "markdown",
   "metadata": {},
   "source": [
    "A ver si ahora consigo poner dos sliders, el segundo para cambiar $\\beta$."
   ]
  },
  {
   "cell_type": "markdown",
   "metadata": {},
   "source": [
    "## Dos widgets de slider"
   ]
  },
  {
   "cell_type": "code",
   "execution_count": 14,
   "metadata": {},
   "outputs": [],
   "source": [
    "from __future__ import print_function\n",
    "from ipywidgets import interact, interactive, fixed, interact_manual\n",
    "import ipywidgets as widgets\n",
    "\n",
    "from IPython.display import display\n",
    "def f(a, b):\n",
    "    display(a+b)\n",
    "    return a+b"
   ]
  },
  {
   "cell_type": "code",
   "execution_count": 15,
   "metadata": {},
   "outputs": [],
   "source": [
    "w = interactive(f, a=10, b=20)"
   ]
  },
  {
   "cell_type": "code",
   "execution_count": 16,
   "metadata": {
    "scrolled": true
   },
   "outputs": [
    {
     "data": {
      "text/plain": [
       "(IntSlider(value=10, description='a', max=30, min=-10),\n",
       " IntSlider(value=20, description='b', max=60, min=-20),\n",
       " Output())"
      ]
     },
     "execution_count": 16,
     "metadata": {},
     "output_type": "execute_result"
    }
   ],
   "source": [
    "w.children"
   ]
  },
  {
   "cell_type": "code",
   "execution_count": 17,
   "metadata": {},
   "outputs": [
    {
     "data": {
      "text/plain": [
       "30"
      ]
     },
     "metadata": {},
     "output_type": "display_data"
    }
   ],
   "source": [
    "display(w)"
   ]
  },
  {
   "cell_type": "markdown",
   "metadata": {},
   "source": [
    "## Mi intento en el tema"
   ]
  },
  {
   "cell_type": "code",
   "execution_count": 18,
   "metadata": {},
   "outputs": [],
   "source": [
    "from ipywidgets import interact\n",
    "\n",
    "def dob_display_ising_sequence(images, nbet, nframe):\n",
    "    def _show(frame=(0, nframe - 1), beta = (0, nbet-1)):\n",
    "        return display_spin_field(images[beta][frame])\n",
    "    return interact(_show)"
   ]
  },
  {
   "cell_type": "code",
   "execution_count": 19,
   "metadata": {},
   "outputs": [],
   "source": [
    "init = random_spin_field(400, 400)\n",
    "nbet = 10\n",
    "nframe = 20\n",
    "\n",
    "img = np.ndarray((nbet, nframe), dtype = object)\n",
    "for be in range(nbet):\n",
    "    img[be][0] = init\n",
    "    for i in range(1,nframe):\n",
    "        img[be][i]=(cy_ising_step(np.int64(img[be][i-1].copy()), (be+1)/10))\n"
   ]
  },
  {
   "cell_type": "code",
   "execution_count": 20,
   "metadata": {},
   "outputs": [
    {
     "data": {
      "image/png": "[encoded data removed]",
      "text/plain": [
       "<PIL.Image.Image image mode=L size=400x400 at 0x2AB7C13A688>"
      ]
     },
     "metadata": {},
     "output_type": "display_data"
    },
    {
     "data": {
      "text/plain": [
       "<function __main__.dob_display_ising_sequence.<locals>._show(frame=(0, 19), beta=(0, 9))>"
      ]
     },
     "execution_count": 20,
     "metadata": {},
     "output_type": "execute_result"
    }
   ],
   "source": [
    "dob_display_ising_sequence(img, nbet, nframe)"
   ]
  },
  {
   "cell_type": "code",
   "execution_count": 21,
   "metadata": {},
   "outputs": [
    {
     "data": {
      "image/png": "[encoded data removed]",
      "text/plain": [
       "<PIL.Image.Image image mode=L size=400x400 at 0x2AB7C1A0648>"
      ]
     },
     "execution_count": 21,
     "metadata": {},
     "output_type": "execute_result"
    }
   ],
   "source": [
    "display_spin_field(img[1][9])"
   ]
  }
 ],
 "metadata": {
  "kernelspec": {
   "display_name": "Python 3",
   "language": "python",
   "name": "python3"
  },
  "language_info": {
   "codemirror_mode": {
    "name": "ipython",
    "version": 3
   },
   "file_extension": ".py",
   "mimetype": "text/x-python",
   "name": "python",
   "nbconvert_exporter": "python",
   "pygments_lexer": "ipython3",
   "version": "3.7.7"
  }
 },
 "nbformat": 4,
 "nbformat_minor": 4
}
