{
 "cells": [
  {
   "cell_type": "markdown",
   "metadata": {},
   "source": [
    "# Experimento 1: Teorema del límite central"
   ]
  },
  {
   "cell_type": "markdown",
   "metadata": {},
   "source": [
    "Supongamos que se genera un número grande $N$ de variables aleatorias independientes $X_i, i=1,...,N$, todas distribuidas con las misma distribución de probabilidad, de media $\\mu$ y varianza $\\sigma^2$. El Teorema del Límite Central nos dice que la variable aleatoria $Y$, construida como la suma de las anteriores:\n",
    "\n",
    "(1)\n",
    "$$\n",
    "Y=X_1 + X_2 +...+X_N\n",
    "$$\n",
    "\n",
    "se distribuye de forma gaussiana de media $N_\\mu$ y de varianza $\\sigma^2 /N$, independientemente de la distribución de las variables $X_i$. Entonces, la probabilidad de que la variable aleatoria $Y$ tome el valor $y$ viene dada por:\n",
    "\n",
    "(2)\n",
    "$$\n",
    "P_{Y}(y)=\\frac{1}{\\sqrt{2 \\pi N \\sigma^{2}}} \\exp \\left[-\\frac{(y-N \\mu)^{2}}{2 N \\sigma^{2}}\\right]\n",
    "$$\n",
    "\n",
    "Este teorema no deja de ser sorprendente: dice que *sea cual sea* la distribución con la que generamos ciertas variables aleatorias, su suma **siempre es gaussiana**, y tanto más estrecha cuantas más variables sumemos. Es por este teorema por el cual la distribución gaussiana juega un papel tan importante en Física: el efecto cooperativo de muchas factores aleatorios da como resultado una distribución gaussiana.\n",
    "\n",
    "Para ilustrarlo, hemos creado un applet Java en el cual se generan variables aleatorias, cuyo número se puede elegir, distribuidas de tres formas posibles:\n",
    "1) Uniformemente entre 1, 2, 3, 4, 5 ó 6 (como si fueran dados)\n",
    "2) Uniformemente en el intervalo real [0,1]\n",
    "3) Uniformemente entre 0 ó 1\n",
    "\n",
    "Pulsando el botón **INICIA** se comienzan a generar variables $Y=\\sum_i X_i$ y se construye el histograma de frecuencias de la variable $Y$ normalizado a la unidad, esto es, $P_Y (y)$, representado en color rojo. A la vez se dibuja en azul la distribución predicha por el teorema del límite central, ecuación (2).\n",
    "\n",
    "Es fácil ver que para $N \\gg 1$ la distribución de la variable $Y$ se acerca a la distribución gaussiana dada por la ecuación (2), sea cual sea la distribución de $X_i$. No sucede así, lógicamente, si el número de variables, $N$, es pequeño.\n",
    "\n",
    "Este applet está inspirado en uno creado por Todd Ogden, de la Universidad de South Carolina."
   ]
  },
  {
   "cell_type": "markdown",
   "metadata": {},
   "source": [
    "<video controls src=\"../Copias_Web/Videos/01-limite_central.mp4\"/>"
   ]
  },
  {
   "cell_type": "markdown",
   "metadata": {},
   "source": [
    "# Pseudocódigo"
   ]
  },
  {
   "cell_type": "markdown",
   "metadata": {},
   "source": [
    "El código sería algo así:\n",
    "\n",
    "```python\n",
    "N = seleccionar(numero)\n",
    "Tipo = seleccionar(dado, intervalo 0 1, moneda)\n",
    "\n",
    "def Generar_Variable(N, Tipo, tiempo):\n",
    "    Y[tiempo] = 0\n",
    "    for i in range(N):\n",
    "        X[i] = random(Tipo)\n",
    "        Y[tiempo] += X[i]\n",
    "    return Y[tiempo]\n",
    "\n",
    "def Gaussiana(N, Tipo):\n",
    "    ...\n",
    "    return y(x)\n",
    "\n",
    "if (INICIA = Presionado):\n",
    "    plot( Gaussiana )\n",
    "    while(tiempo > 0):\n",
    "        plot( Generar_Variable(N, tipo, tiempo) )\n",
    "        tiempo += 1\n",
    "    \n",
    "```"
   ]
  },
  {
   "cell_type": "code",
   "execution_count": null,
   "metadata": {},
   "outputs": [],
   "source": []
  }
 ],
 "metadata": {
  "kernelspec": {
   "display_name": "Python 3",
   "language": "python",
   "name": "python3"
  },
  "language_info": {
   "codemirror_mode": {
    "name": "ipython",
    "version": 3
   },
   "file_extension": ".py",
   "mimetype": "text/x-python",
   "name": "python",
   "nbconvert_exporter": "python",
   "pygments_lexer": "ipython3",
   "version": "3.7.7"
  }
 },
 "nbformat": 4,
 "nbformat_minor": 4
}
