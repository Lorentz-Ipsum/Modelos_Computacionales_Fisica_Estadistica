{
 "cells": [
  {
   "cell_type": "markdown",
   "metadata": {},
   "source": [
    "# 1. Primer intento\n"
   ]
  },
  {
   "cell_type": "markdown",
   "metadata": {},
   "source": [
    "## Números aleatorios"
   ]
  },
  {
   "cell_type": "markdown",
   "metadata": {},
   "source": [
    "Generar números aleatorios en python es fácil:"
   ]
  },
  {
   "cell_type": "code",
   "execution_count": 1,
   "metadata": {},
   "outputs": [
    {
     "name": "stdout",
     "output_type": "stream",
     "text": [
      "[1, 1, 8, 3, 1, 1, 1, 8, 8, 1]\n"
     ]
    }
   ],
   "source": [
    "import random\n",
    "\n",
    "N = 10\n",
    "X = []\n",
    "\n",
    "for i in range(N):\n",
    "    X.append(random.randrange(1, N) )\n",
    "\n",
    "print(X)"
   ]
  },
  {
   "cell_type": "markdown",
   "metadata": {},
   "source": [
    "Pero podemos hacerlo mejor.\n",
    "Quería poder elegir la media y la variancia.\n",
    "\n",
    "Para ello he encontrado algunos links que debo ojear:\n",
    "\n",
    "- https://stackoverflow.com/questions/49855569/how-to-generate-random-numbers-to-satisfy-a-specific-mean-and-median-in-python\n",
    "- https://docs.scipy.org/doc/numpy-1.15.0/reference/generated/numpy.random.normal.html\n",
    "- https://docs.python.org/3/library/statistics.html\n",
    "\n",
    "\n",
    "Por ahora he usado la forma usada [aqui](https://stackoverflow.com/questions/8815706/random-number-with-specific-variance-in-python)"
   ]
  },
  {
   "cell_type": "code",
   "execution_count": 2,
   "metadata": {},
   "outputs": [],
   "source": [
    "import math\n",
    "from random import gauss\n",
    "\n",
    "N = 100\n",
    "media = 0\n",
    "varianza = 10\n",
    "t = 20"
   ]
  },
  {
   "cell_type": "code",
   "execution_count": 3,
   "metadata": {},
   "outputs": [
    {
     "name": "stdout",
     "output_type": "stream",
     "text": [
      "[35.365399383288946, -58.242104827580775, 9.61714371836304, -24.541482531892832, -45.01395801934548, 46.52881764858275, 16.23048470976771, -27.765360205394074, -10.79721640430677, -11.952835151678041, 38.97185612818728, 44.182859624074986, -32.606287768874154, 10.690663296712591, 32.453485090638544, 22.775620527147886, 1.3247438124204165, -10.308521538518688, -54.82143474408297, 24.09545124801756]\n"
     ]
    }
   ],
   "source": [
    "ye = []\n",
    "for j in range(t):\n",
    "    X = [gauss(media, math.sqrt(varianza)) for i in range(N)]\n",
    "\n",
    "    Y = 0\n",
    "    for i in range(N):\n",
    "        Y = Y + X[i]\n",
    "    #print(Y)\n",
    "    ye.append(Y)\n",
    "\n",
    "print(ye)\n"
   ]
  },
  {
   "cell_type": "markdown",
   "metadata": {},
   "source": [
    "## Guardando a un .txt"
   ]
  },
  {
   "cell_type": "markdown",
   "metadata": {},
   "source": [
    "Ahora, quiero guardar estos datos en un archivo de texto. Quizás en la versión final para la web no haga falta, pero ahora es útil.\n",
    "\n",
    "Un sitio donde está bien explicado cómo crear y controlar archivos de texto desde python es https://www.guru99.com/reading-and-writing-files-in-python.html"
   ]
  },
  {
   "cell_type": "code",
   "execution_count": 11,
   "metadata": {},
   "outputs": [],
   "source": [
    "file = open(\"example.txt\",\"w+\")\n",
    "\n",
    "for i in range(t):\n",
    "    file.write(str(i+1)+\",\"+str(ye[i])+\"\\n\")\n",
    "\n",
    "file.close()"
   ]
  },
  {
   "cell_type": "markdown",
   "metadata": {},
   "source": [
    "Quiero poder ver el archivo de texto creado en el propio notebook.\n",
    "Para eso, he sacado el siguiente código de https://stackoverflow.com/questions/13957025/how-to-upload-a-text-file-into-ipython-notebook"
   ]
  },
  {
   "cell_type": "code",
   "execution_count": 12,
   "metadata": {},
   "outputs": [
    {
     "name": "stdout",
     "output_type": "stream",
     "text": [
      "1,35.365399383288946\n",
      "2,-58.242104827580775\n",
      "3,9.61714371836304\n",
      "4,-24.541482531892832\n",
      "5,-45.01395801934548\n",
      "6,46.52881764858275\n",
      "7,16.23048470976771\n",
      "8,-27.765360205394074\n",
      "9,-10.79721640430677\n",
      "10,-11.952835151678041\n",
      "11,38.97185612818728\n",
      "12,44.182859624074986\n",
      "13,-32.606287768874154\n",
      "14,10.690663296712591\n",
      "15,32.453485090638544\n",
      "16,22.775620527147886\n",
      "17,1.3247438124204165\n",
      "18,-10.308521538518688\n",
      "19,-54.82143474408297\n",
      "20,24.09545124801756\n",
      "\n"
     ]
    }
   ],
   "source": [
    "text_file = open(\"example.txt\")\n",
    "file_content = text_file.read()\n",
    "print(file_content)\n",
    "text_file.close()"
   ]
  },
  {
   "cell_type": "markdown",
   "metadata": {},
   "source": [
    "## Animando la generación de números"
   ]
  },
  {
   "cell_type": "code",
   "execution_count": 6,
   "metadata": {},
   "outputs": [
    {
     "data": {
      "text/plain": [
       "<Figure size 640x480 with 1 Axes>"
      ]
     },
     "metadata": {},
     "output_type": "display_data"
    }
   ],
   "source": [
    "import matplotlib.pyplot as plt\n",
    "import matplotlib.animation as animation\n",
    "from matplotlib import style\n",
    "\n",
    "style.use('fivethirtyeight')\n",
    "\n",
    "fig = plt.figure()\n",
    "ax1 = fig.add_subplot(1,1,1)\n",
    "\n",
    "def animate(i):\n",
    "    graph_data = open('example.txt','r').read()\n",
    "    lines = graph_data.split('\\n')\n",
    "    xs = []\n",
    "    ys = []\n",
    "    for line in lines:\n",
    "        if len(line) > 1:\n",
    "            x, y = line.split(',')\n",
    "            xs.append(float(x))\n",
    "            ys.append(float(y))\n",
    "    ax1.clear()\n",
    "    ax1.plot(xs, ys)\n",
    "\n",
    "ani = animation.FuncAnimation(fig, animate, interval=1000)\n",
    "plt.show()\n"
   ]
  },
  {
   "cell_type": "code",
   "execution_count": 7,
   "metadata": {},
   "outputs": [
    {
     "name": "stdout",
     "output_type": "stream",
     "text": [
      "1,76.36685952070187\n",
      "2,-76.40654982386145\n",
      "3,69.45518178422937\n",
      "4,20.41854450824167\n",
      "5,36.31446016143143\n",
      "6,0.1514690727469059\n",
      "7,28.501956547674062\n",
      "8,-8.909996123701458\n",
      "9,44.47099855912622\n",
      "10,-37.61820195366937\n",
      "11,-14.75088492767983\n",
      "12,8.694239615953078\n",
      "13,-32.008920567734506\n",
      "14,22.58135411961082\n",
      "15,31.59686820935387\n",
      "16,44.528240185916616\n",
      "17,33.089639238010164\n",
      "18,-20.099471294090407\n",
      "19,-32.67654280976628\n",
      "20,31.062812234339702\n",
      "21,20\n",
      "21,20\n",
      "22,20\n",
      "1,35.365399383288946\n",
      "2,-58.242104827580775\n",
      "3,9.61714371836304\n",
      "4,-24.541482531892832\n",
      "5,-45.01395801934548\n",
      "6,46.52881764858275\n",
      "7,16.23048470976771\n",
      "8,-27.765360205394074\n",
      "9,-10.79721640430677\n",
      "10,-11.952835151678041\n",
      "11,38.97185612818728\n",
      "12,44.182859624074986\n",
      "13,-32.606287768874154\n",
      "14,10.690663296712591\n",
      "15,32.453485090638544\n",
      "16,22.775620527147886\n",
      "17,1.3247438124204165\n",
      "18,-10.308521538518688\n",
      "19,-54.82143474408297\n",
      "20,24.09545124801756\n",
      "22,20\n",
      "\n"
     ]
    }
   ],
   "source": [
    "file = open(\"example.txt\",\"a\")\n",
    "file.write(str(22)+\",\"+str(20)+\"\\n\")\n",
    "file.close()\n",
    "\n",
    "text_file = open(\"example.txt\")\n",
    "file_content = text_file.read()\n",
    "print(file_content)\n",
    "text_file.close()"
   ]
  },
  {
   "cell_type": "markdown",
   "metadata": {},
   "source": [
    "def animate(i):\n",
    "    xs = []\n",
    "    ys = []\n",
    "    for k in range(t):\n",
    "        xs.append(k)\n",
    "        ys.append(ye[k])\n",
    "    ax1.clear()\n",
    "    ax1.plot(xs, ys)\n"
   ]
  }
 ],
 "metadata": {
  "kernelspec": {
   "display_name": "Python 3",
   "language": "python",
   "name": "python3"
  },
  "language_info": {
   "codemirror_mode": {
    "name": "ipython",
    "version": 3
   },
   "file_extension": ".py",
   "mimetype": "text/x-python",
   "name": "python",
   "nbconvert_exporter": "python",
   "pygments_lexer": "ipython3",
   "version": "3.7.4"
  }
 },
 "nbformat": 4,
 "nbformat_minor": 4
}
