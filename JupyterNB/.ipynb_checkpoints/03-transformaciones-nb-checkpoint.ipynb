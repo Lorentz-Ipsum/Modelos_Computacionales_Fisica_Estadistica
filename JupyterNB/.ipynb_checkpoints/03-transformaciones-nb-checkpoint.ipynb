{
 "cells": [
  {
   "cell_type": "markdown",
   "metadata": {},
   "source": [
    "# Experimento 3: Transformaciones del Panadero y de Arnold"
   ]
  },
  {
   "cell_type": "markdown",
   "metadata": {},
   "source": [
    "Muchas propiedades del espacio de las fases $\\Gamma$ pueden entenderse con modelos dinámicos sencillos, como los que introduciremos en este experimento. Son las llamadas *Transformación del Panadero (baker's transformation)* y *Transformación de Arnold (o Arnold's cat map)*. Ambas actúan sobre un espacio de fases bidimensional, transformando un punto $(x,y)$ sobre el cuadrado unidad, en un punto transformado $(x', y')$ con una aplicación que conserva la medida en el espacio de las fases $\\Gamma$. Ambas transformaciones son ergódicas."
   ]
  },
  {
   "cell_type": "markdown",
   "metadata": {},
   "source": [
    "## Transformación del Panadero"
   ]
  },
  {
   "cell_type": "markdown",
   "metadata": {},
   "source": [
    "\n",
    "Esta transformación actúa sobre la región $[0,1] \\times [0,1]$, contrayendo la dirección $y$ en un factor 1/2 y expandiendo la dirección $x$ en un factor 2. A continuación, la región con $x >1$ se corta y se coloca en la parte superior del intervalo $[0,1]$. La transformación de un punto $(x,y)$ es:\n",
    "\n",
    "$$\n",
    "\\begin{array}{l}\n",
    "{x^{\\prime}=2 x(\\bmod 1)} \\\\\n",
    "{y^{\\prime}=\\left\\{\\begin{array}{ll}\n",
    "{y / 2} & {\\text { si } x<1 / 2} \\\\\n",
    "{y / 2+1 / 2} & {\\text { si } x>1 / 2}\n",
    "\\end{array}\\right.}\n",
    "\\end{array}\n",
    "$$\n",
    "\n",
    "Puede verificarse de manera sencilla que esta transformación conserva el área del espacio $\\Gamma$.\n",
    "\n",
    "El applet que incluimos aquí ilustra la transformación del panadero. Puede escogerse como dato incial para la iteración la cara de un gato, un círculo o una nube de puntos aleatorios en el cuadrado $[0, 0.3] \\times [0, 0.3]$. Se elige el dato incial y se pulsa el botón **INICIA**. Para aplicar la transformación del Panadero, pulse el botón **ITERA**. Después de una cuantas iteraciones, los puntos que componen las figuras se han distribuido de manera uniforme sobre el espacio, llenándolo en su totalidad. Esta transformación es ergódica y mixing.\n",
    "\n",
    "Cuando se pulsa el botón repetidas veces (unas 50 veces), se observa que los puntos ya no cubren el espacio de maera uniforme, sino que se forman bandas o regiones que evolucionan hasta el origen. Ello se debe a la [precisión finita](adicional/precision_finita.md) con la que se realizan los cálculos numéricos.\n"
   ]
  },
  {
   "cell_type": "markdown",
   "metadata": {},
   "source": [
    "## Transformación de Arnold"
   ]
  },
  {
   "cell_type": "markdown",
   "metadata": {},
   "source": [
    "\n",
    "\n",
    "La transformación de Arnold forma parte de una clase más complicada de transformaciones llamadas *automorfismo torales*. Son transformaciones lineales del cuadrado unidad en sí mismo con condiciones de contorno periódicas, definidas a través de una matriz $T$, que transforma el punto $(x, y)$ en el  $(x', y')$ según:\n",
    "\n",
    "(1)\n",
    "$$\n",
    "\\left(\\begin{array}{l}\n",
    "{x^{\\prime}} \\\\\n",
    "{y^{\\prime}}\n",
    "\\end{array}\\right)=T\\left(\\begin{array}{l}\n",
    "{x} \\\\\n",
    "{y}\n",
    "\\end{array}\\right)=\\left(\\begin{array}{ll}\n",
    "{t_{11}} & {t_{12}} \\\\\n",
    "{t_{21}} & {t_{22}}\n",
    "\\end{array}\\right)\\left(\\begin{array}{l}\n",
    "{x} \\\\\n",
    "{y}\n",
    "\\end{array}\\right) \\quad(\\bmod 1)\n",
    "$$\n",
    "\n",
    "La matriz $T$ debe tener determinante 1, esto es, $\\det (T) = t_{11} t_{22} - t_{12} t_{21} = 1$ que nos garantiza que dicha transformación conserve el área en el espacio $\\Gamma$, dado que el determinante no es más que el Jacobiano de la transformación de $(x, y) \\rightarrow (x', y')$. Para que la transformación (1) sea ergódica es necesario que los autovalores de $T$ sean reales y diferentes de 1. Para garantizarlo, se suele exigir que los elementos de $T$ sean enteros positivos. Bajo estas condiciones, los autovectores de $T$ son ortogonales, y existe un autovector mayor que 1 y otro menor que 1. La dirección asociada al autovalor mayor que 1 se expande y la asociada al menor que 1 se contrae. Ciertas matrices $T$ que no satisfacen estas condiciones dan comportamientos no ergódicos ([pulsa aquí](adicional/arnold_no_ergodicas.md).\n",
    "\n",
    "Todo ello se observa en este Applet, similar en su funcionamiento al de la transformación del panadero. Aquí, sin embargo, se pueden elegir tres elementos de la matriz $T$ (el cuarto viene fijado por la condición $\\det(T)=1$ ). Los valores $t_{11} = 2, t_{12} = 1$ y $t_{21} = 1$ (que implican $t_{22} = 1$) son los usuales que introdujo Arnold.\n",
    "\n",
    "De nuevo puede observarse como los puntos se reparten uniformemente sobre el cuadrado $[0,1] \\times [0,1]$ tras unas pocas iteraciones, aunque el número de las mismas depende de los valores de los elementos de la matriz $T$. De nuevo, tras un número elevado de iteraciones, los puntos colapsan al $(0,0)$ debido a redondeos causados por la precisión finita de los cálculos.\n",
    "\n",
    "Bibliografía: J.R. Dorfman, An Introduction to Chaos in Nonequilibrium Statistical Mechanics, Cambridge Lecture Notes in Physics (1999)."
   ]
  },
  {
   "cell_type": "markdown",
   "metadata": {},
   "source": [
    "<video controls src=\"../Copias_Web/Videos/03-transformaciones.mp4\"/>"
   ]
  },
  {
   "cell_type": "markdown",
   "metadata": {},
   "source": [
    "# Pseudocódigo"
   ]
  },
  {
   "cell_type": "markdown",
   "metadata": {},
   "source": [
    "El código sería algo así:\n",
    "\n",
    "```python\n",
    "if (INICIA = Presionado):\n",
    "    Generar_Variables\n",
    "    \n",
    "```"
   ]
  }
 ],
 "metadata": {
  "kernelspec": {
   "display_name": "Python 3",
   "language": "python",
   "name": "python3"
  },
  "language_info": {
   "codemirror_mode": {
    "name": "ipython",
    "version": 3
   },
   "file_extension": ".py",
   "mimetype": "text/x-python",
   "name": "python",
   "nbconvert_exporter": "python",
   "pygments_lexer": "ipython3",
   "version": "3.7.7"
  }
 },
 "nbformat": 4,
 "nbformat_minor": 4
}
