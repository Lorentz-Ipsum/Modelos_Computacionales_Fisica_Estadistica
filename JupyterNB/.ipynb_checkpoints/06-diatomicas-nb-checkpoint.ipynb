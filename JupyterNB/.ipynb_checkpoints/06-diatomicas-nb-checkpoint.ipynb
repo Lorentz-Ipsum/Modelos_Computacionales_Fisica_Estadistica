{
 "cells": [
  {
   "cell_type": "markdown",
   "metadata": {},
   "source": [
    "# Experimento 6: Moléculas Diatómicas"
   ]
  },
  {
   "cell_type": "markdown",
   "metadata": {},
   "source": [
    "El objeto de esta práctica es el estudio de las propiedades de un gas de moléculas diatómicas, cuyo hamiltomiano para el par de átomos (1 y 2) que componen la molécula es:\n",
    "   (1)\n",
    "\n",
    "Este Hamiltoniano puede separarse en dos partes: la parte debida al movimiento del centro de masas de la molécula y la parte debida al movimiento de los átomos respecto al centro de masas. Para ello utilizamos la transformación a coordenadas relativas:\n",
    "   (2)\n",
    "\n",
    "con lo que el hamiltoniano (1) se reescribe como:\n",
    "   (3)\n",
    "\n",
    "donde es la masa total de la molécula y es la masa reducida. Así que para la función de partición de una molécula tenemos que:\n",
    "\n",
    "\n",
    "y la de moléculas se puede escribir como:\n",
    "\n",
    "\n",
    "A partir de esta función de partición se calcula el calor específico por partícula como:\n",
    "\n",
    "\n",
    "donde las derivadas parciales que aparecen se deben tomar a y constante.\n",
    "\n",
    "Pasemos a calcular las tres funciones de partición que aparecen. La función de partición traslacional es la de una partícula libre en 3 dimensiones:\n",
    "\n",
    "\n",
    "que da una contribución al calor específico:\n",
    "\n",
    "\n",
    "Vibración\n",
    "\n",
    "La parte vibracional incluye el potencial de interacción interatómico. Si suponemos que los átomos vibran alrededor de las posición de equilibrio con pequeña amplitud (lo que hemos asumido implícitamente en (3)), podemos desarrollar el potencial en serie de potencias alrededor de , obteniendo:\n",
    "\n",
    "\n",
    "donde el término en derivada primera, es nulo porque está evaluada en , que es la posición de equilibrio en la que es mínimo. Así pues, el potencial se puede aproximar por un potencial armónico de frecuencia . Por tanto, el hamiltoniano de rotación se reduce a:\n",
    "\n",
    "\n",
    "cuyos niveles de energía cuantizados según:\n",
    "\n",
    "\n",
    "y la función de partición (que se puede calcular):\n",
    "   (4)\n",
    "\n",
    "donde hemos definido la temperatura característica de vibración como:\n",
    "\n",
    "\n",
    "que suele ser del orden de cientos a miles de kelvins. Las contribuciones al calor específico son:\n",
    "\n",
    "\n",
    "Rotación\n",
    "\n",
    "La parte rotacional, incluye el operador momento angular , cuyas autofunciones son los armónicos esféricos, con ecuación de autovalores: , con degeneración . Entonces la función de partición es:\n",
    "   (5)\n",
    "\n",
    "de donde podemos definir la temperatura característica de rotación como:\n",
    "\n",
    "\n",
    "que varía entre décimas de kelvin a unos pocos kelvins (excepto el hidrógeno). Para temperaturas bajas comparadas con , , podemos calcular porque sólo los primeros términos de la serie (5) son importantes. Por el contrario, a temperaturas altas, , todos los términos en (5) deben ser sumados.\n",
    "\n",
    "En estos límites las contribuciones al calor específico pueden ser calculadas, obteniéndose:\n",
    "\n",
    "\n",
    "El applet en Java permite introducir las temperaturas de rotación y traslación y el programa calcula el calor específico por partícula (en unidades de ) representado frente a . El applet dibuja dos líneas verticales, correspondientes a y y tres horizontales, que son las contribuciones de la parte traslacional (3/2), la rotacional (1) y la vibracional (1) cuando las temperaturas son mucho mayores que la rotacional y la vibracional respectivamente.\n",
    "\n",
    "Si las temperaturas características están bien separadas, como sucede en la moléculas diatómicas reales, pueden observarse claramente las contribuciones de los tres hamiltonianos. El calor específico debido a la rotación muestra un máximo alrededor de .\n",
    "\n",
    "Las temperaturas características para algunas moléculas diatómicas son:\n",
    "\n",
    "   H \tN \tCO \tNO \tO \tCl \tBr \tK\n",
    "   85 \t2.9 \t2.8 \t2.4 \t2.1 \t0.35 \t0.12 \t0.081\n",
    "   6200 \t3340 \t3070 \t2690 \t2230 \t810 \t470 \t140\n",
    "\n",
    " Fuente: Statistical Thermodynamics, J.F.Lee, F.W.Sears y D.L.Turcotte, Addison-Wesley (1963).\n",
    "\n",
    "Pulsa aquí para ver una gráfica con las medidas experimentales del calor específico a presión constante de los gases HD, HT y DT, donde D representa el deuterio y T el tritio, frente a la temperatura. La relación entre y para gases ideales es: y, por ello, los resultados para están desplazados una unidad.\n",
    "\n",
    "En esta gráfica se comparan los resultados de la contribución vibracional al calor específico, Ec. (4) en función de T/ para varios gases.\n",
    "\n",
    "Para moléculas triatómicas el análisis anterior se complica notablemente. Por ejemplo, el CO tiene 4 modos normales de vibración. El texto de J.Kestin y J.R.Dorfman (A Course in Statistical Thermodynamics, Academic Press, 1971) incluye una gráfica con el calor específico de dicha molécula. \n"
   ]
  },
  {
   "cell_type": "markdown",
   "metadata": {},
   "source": [
    "<video controls src=\"../Copias_Web/Videos/06-diatomicas.mp4\"/>"
   ]
  },
  {
   "cell_type": "markdown",
   "metadata": {},
   "source": [
    "# Pseudocódigo"
   ]
  },
  {
   "cell_type": "markdown",
   "metadata": {},
   "source": [
    "El código sería algo así:\n",
    "\n",
    "```python\n",
    "if (INICIA = Presionado):\n",
    "    Generar_Variables\n",
    "    \n",
    "```"
   ]
  }
 ],
 "metadata": {
  "kernelspec": {
   "display_name": "Python 3",
   "language": "python",
   "name": "python3"
  },
  "language_info": {
   "codemirror_mode": {
    "name": "ipython",
    "version": 3
   },
   "file_extension": ".py",
   "mimetype": "text/x-python",
   "name": "python",
   "nbconvert_exporter": "python",
   "pygments_lexer": "ipython3",
   "version": "3.7.7"
  }
 },
 "nbformat": 4,
 "nbformat_minor": 4
}
