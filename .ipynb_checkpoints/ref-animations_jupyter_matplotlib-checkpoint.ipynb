{
 "cells": [
  {
   "cell_type": "raw",
   "metadata": {},
   "source": [
    "1,53.294923534063734\n",
    "2,-53.59194657519257\n",
    "3,15.356399746313652\n",
    "4,-44.14429614743936\n",
    "5,-36.084697006060566\n",
    "6,36.343578910120485\n",
    "7,-7.184611887588343\n",
    "8,48.77200724669804\n",
    "9,41.50820296484809\n",
    "10,7.298973551805288\n",
    "11,63.753686355510425\n",
    "12,-45.70549378558226\n",
    "13,27.442033626451583\n",
    "14,-1.5432381310696552\n",
    "15,-4.793254757325048\n",
    "16,46.3904094920302\n",
    "17,5.927964101696024\n",
    "18,5.822815158318992\n",
    "19,-40.46342507778142\n",
    "20,69.64297615852975\n",
    "21,20\n",
    "22,20\n",
    "23,30\n"
   ]
  },
  {
   "cell_type": "markdown",
   "metadata": {},
   "source": [
    "import matplotlib.pyplot as plt\n",
    "import matplotlib.animation as animation\n",
    "from matplotlib import style\n",
    "\n",
    "style.use('fivethirtyeight')\n",
    "\n",
    "fig = plt.figure()\n",
    "ax1 = fig.add_subplot(1,1,1)\n",
    "\n",
    "def animate(i):\n",
    "    graph_data = open('example.txt','r').read()\n",
    "    lines = graph_data.split('\\n')\n",
    "    xs = []\n",
    "    ys = []\n",
    "    for line in lines:\n",
    "        if len(line) > 1:\n",
    "            x, y = line.split(',')\n",
    "            xs.append(float(x))\n",
    "            ys.append(float(y))\n",
    "    ax1.clear()\n",
    "    ax1.plot(xs, ys)\n",
    "\n",
    "ani = animation.FuncAnimation(fig, animate, interval=1000)\n",
    "plt.show()\n",
    "\n"
   ]
  },
  {
   "cell_type": "markdown",
   "metadata": {},
   "source": [
    "button = Button(\n",
    "    description=' Click me to print',\n",
    "    dislaveled = False,\n",
    "    button_style='',\n",
    "    tooltip='Click Me',\n",
    "    icon='cat'\n",
    ")\n",
    "display(button)\n",
    "def on_button_clicked(b):\n",
    "    print(\"Button Clicked.\")\n",
    "    \n",
    "button.on_click(on_button_clicked)"
   ]
  },
  {
   "cell_type": "markdown",
   "metadata": {},
   "source": [
    "## Create GUI Apps in Jupyter using ipywidgets"
   ]
  },
  {
   "cell_type": "markdown",
   "metadata": {},
   "source": [
    "https://www.youtube.com/watch?v=f0WmLo8AVxo\n"
   ]
  },
  {
   "cell_type": "code",
   "execution_count": 1,
   "metadata": {},
   "outputs": [],
   "source": [
    "# imports\n",
    "from ipywidgets.widgets import Label, FloatProgress, FloatSlider, Button\n",
    "from ipywidgets.widgets import Layout, HBox, VBox\n",
    "from IPython.display import display\n",
    "import numpy as np\n",
    "import bqplot as bq\n",
    "import time\n",
    "import threading"
   ]
  },
  {
   "cell_type": "code",
   "execution_count": 2,
   "metadata": {},
   "outputs": [],
   "source": [
    "# flag to control loop\n",
    "flag = True\n",
    "\n",
    "# data to plot\n",
    "x = np.linspace(0, 2 * np.pi, 500)\n",
    "dx = x[1] - x[0]\n",
    "y = 1 + np.sin(x)"
   ]
  },
  {
   "cell_type": "code",
   "execution_count": 3,
   "metadata": {},
   "outputs": [],
   "source": [
    "# GUI elements\n",
    "\n",
    "# stop button\n",
    "b_stop = Button(\n",
    "    description = 'Stop',\n",
    "    icon = 'stop',\n",
    "    button_style = 'warning',\n",
    "    layout = Layout( width = '100px')\n",
    ")\n",
    "\n",
    "def stop_click(b):\n",
    "    global flag\n",
    "    if flag == True:\n",
    "        flag = False\n",
    "    else:\n",
    "        flag = True\n",
    "    \n",
    "b_stop.on_click(stop_click)\n",
    "\n",
    "# progressbar and label\n",
    "w1 = FloatProgress(\n",
    "    value = y[-1],\n",
    "    min = 0,\n",
    "    max = 2,\n",
    "    description = 'Progress Bar',\n",
    "    style = {'description_width': 'initial'},\n",
    "    layout = Layout(width = '365px')\n",
    ")\n",
    "\n",
    "w2 = Label(\n",
    "    value = str(np.round(y[-1], 2)),\n",
    "    layout = Layout(margin = '0 10px 0 31px')\n",
    ")\n",
    "\n",
    "w12 = HBox(\n",
    "    children = (w1, w2),\n",
    "    layout = Layout(margin = '0 0 0 43px')\n",
    ")\n",
    "\n",
    "# slider\n",
    "wA = FloatSlider(\n",
    "    value = 0,\n",
    "    min = 0,\n",
    "    max = 0.5,\n",
    "    step = 0.01,\n",
    "    description = 'Noise:',\n",
    "    layout = Layout(width = '490px', margin = '0 0 5px 0')\n",
    ")"
   ]
  },
  {
   "cell_type": "code",
   "execution_count": 4,
   "metadata": {},
   "outputs": [],
   "source": [
    "# Plot Elements\n",
    "\n",
    "# scales\n",
    "x_sc = bq.LinearScale()\n",
    "y_sc = bq.LinearScale()\n",
    "\n",
    "# axis\n",
    "x_ax = bq.Axis(\n",
    "    label = 'x(t)',\n",
    "    scale = x_sc\n",
    ")\n",
    "y_ax = bq.Axis(\n",
    "    label = 'y(t)',\n",
    "    scale = y_sc,\n",
    "    orientation = 'vertical'\n",
    ")\n",
    "\n",
    "# lines\n",
    "Line = bq.Lines(\n",
    "    x = x,\n",
    "    y = y,\n",
    "    scales = {'x': x_sc, 'y': y_sc}\n",
    ")\n",
    "\n",
    "# Figure\n",
    "fig = bq.Figure(\n",
    "    layout = Layout(width = '500px', height ='300px'),\n",
    "    axes = [x_ax, y_ax],\n",
    "    marks = [Line],\n",
    "    fig_margin = dict(top=10, bottom=40, left=50, right=10)\n",
    ")"
   ]
  },
  {
   "cell_type": "code",
   "execution_count": 5,
   "metadata": {},
   "outputs": [],
   "source": [
    "# Joint everything\n",
    "box = VBox(\n",
    "    children = (fig, w12, wA),\n",
    "    layout = Layout(border='solid 2px gray', width='510px')\n",
    ")\n",
    "\n",
    "app = HBox(\n",
    "    children = (b_stop, box)\n",
    ")"
   ]
  },
  {
   "cell_type": "code",
   "execution_count": 6,
   "metadata": {},
   "outputs": [],
   "source": [
    "# Loop function to update the real time plot\n",
    "def work():\n",
    "    global x\n",
    "    global y\n",
    "    \n",
    "    while flag:\n",
    "        \n",
    "        # get latest value of slider\n",
    "        A = wA.value\n",
    "        \n",
    "        # delete old values from x and y\n",
    "        x = np.delete(x, 0)\n",
    "        y = np.delete(y, 0)\n",
    "        \n",
    "        # add new values to x an y\n",
    "        x = np.append(x, x[-1]+dx)\n",
    "        noise = A * np.random.rand()\n",
    "        y = np.append(y, 1 + np.sin(x[-1]) + noise)\n",
    "        \n",
    "        # update progressbar and label\n",
    "        w1.value = y[-1]\n",
    "        w2.value = str(np.round(y[-1],2))\n",
    "        \n",
    "        # Update plot\n",
    "        Line.x = x\n",
    "        Line.y = y\n",
    "        \n",
    "        # Control cycle speed\n",
    "        time.sleep(0.05)"
   ]
  },
  {
   "cell_type": "code",
   "execution_count": 11,
   "metadata": {
    "scrolled": true
   },
   "outputs": [],
   "source": [
    "# set the flag to true\n",
    "flag = True\n",
    "\n",
    "# Create Thread\n",
    "thread = threading.Thread(target = work)\n",
    "\n",
    "# Display the app\n",
    "# display(app)\n",
    "\n",
    "# Start thread\n",
    "# thread.start()"
   ]
  },
  {
   "cell_type": "markdown",
   "metadata": {},
   "source": [
    "## Añadiendo un botón de start\n",
    "Lo de arriba del tutorial no está mal.\n",
    "Pero sólo puedo parar. Si quiero un botón que empiece de nuevo, tengo que aprender de threading.\n",
    "\n",
    "Pero por ahora, experimentando he conseguido lo siguiente:\n"
   ]
  },
  {
   "cell_type": "code",
   "execution_count": 12,
   "metadata": {
    "scrolled": true
   },
   "outputs": [
    {
     "data": {
      "application/vnd.jupyter.widget-view+json": {
       "model_id": "7e66b7f32c924edf976555626f6c965c",
       "version_major": 2,
       "version_minor": 0
      },
      "text/plain": [
       "HBox(children=(Button(button_style='warning', description='Stop', icon='stop', layout=Layout(width='100px'), s…"
      ]
     },
     "metadata": {},
     "output_type": "display_data"
    }
   ],
   "source": [
    "# start button\n",
    "b_start = Button(\n",
    "    description = 'Start',\n",
    "    icon = 'play',\n",
    "    button_style = 'warning',\n",
    "    layout = Layout( width = '100px')\n",
    ")\n",
    "\n",
    "def start_click(b):\n",
    "    thread = threading.Thread(target = work)\n",
    "    thread.start()\n",
    "    \n",
    "b_start.on_click(start_click)\n",
    "\n",
    "display(app)"
   ]
  },
  {
   "cell_type": "code",
   "execution_count": 13,
   "metadata": {
    "scrolled": true
   },
   "outputs": [
    {
     "data": {
      "application/vnd.jupyter.widget-view+json": {
       "model_id": "73a80a3b54d14e21aad5495c103d277e",
       "version_major": 2,
       "version_minor": 0
      },
      "text/plain": [
       "Button(button_style='warning', description='Start', icon='play', layout=Layout(width='100px'), style=ButtonSty…"
      ]
     },
     "metadata": {},
     "output_type": "display_data"
    }
   ],
   "source": [
    "b_start"
   ]
  },
  {
   "cell_type": "markdown",
   "metadata": {},
   "source": [
    "Ahora no sé.. A veces parece que puedo reempezarlo y a veces no."
   ]
  }
 ],
 "metadata": {
  "kernelspec": {
   "display_name": "Python 3",
   "language": "python",
   "name": "python3"
  },
  "language_info": {
   "codemirror_mode": {
    "name": "ipython",
    "version": 3
   },
   "file_extension": ".py",
   "mimetype": "text/x-python",
   "name": "python",
   "nbconvert_exporter": "python",
   "pygments_lexer": "ipython3",
   "version": "3.7.7"
  }
 },
 "nbformat": 4,
 "nbformat_minor": 4
}
