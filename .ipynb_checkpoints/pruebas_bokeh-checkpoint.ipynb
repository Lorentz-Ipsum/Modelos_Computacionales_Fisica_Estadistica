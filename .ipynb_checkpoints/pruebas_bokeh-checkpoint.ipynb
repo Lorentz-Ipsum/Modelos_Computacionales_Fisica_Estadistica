{
 "cells": [
  {
   "cell_type": "code",
   "execution_count": 1,
   "metadata": {},
   "outputs": [
    {
     "ename": "ImportError",
     "evalue": "cannot import name 'vplot' from 'bokeh.plotting' (C:\\Anaconda\\envs\\tfg-fises\\lib\\site-packages\\bokeh\\plotting\\__init__.py)",
     "output_type": "error",
     "traceback": [
      "\u001b[1;31m---------------------------------------------------------------------------\u001b[0m",
      "\u001b[1;31mImportError\u001b[0m                               Traceback (most recent call last)",
      "\u001b[1;32m<ipython-input-1-102cc57291f8>\u001b[0m in \u001b[0;36m<module>\u001b[1;34m\u001b[0m\n\u001b[0;32m      1\u001b[0m \u001b[1;32mimport\u001b[0m \u001b[0mnumpy\u001b[0m \u001b[1;32mas\u001b[0m \u001b[0mnp\u001b[0m\u001b[1;33m\u001b[0m\u001b[1;33m\u001b[0m\u001b[0m\n\u001b[1;32m----> 2\u001b[1;33m \u001b[1;32mfrom\u001b[0m \u001b[0mbokeh\u001b[0m\u001b[1;33m.\u001b[0m\u001b[0mplotting\u001b[0m \u001b[1;32mimport\u001b[0m \u001b[0mfigure\u001b[0m\u001b[1;33m,\u001b[0m \u001b[0mshow\u001b[0m\u001b[1;33m,\u001b[0m \u001b[0mgridplot\u001b[0m\u001b[1;33m,\u001b[0m \u001b[0mvplot\u001b[0m\u001b[1;33m,\u001b[0m \u001b[0mhplot\u001b[0m\u001b[1;33m,\u001b[0m \u001b[0mcurdoc\u001b[0m\u001b[1;33m\u001b[0m\u001b[1;33m\u001b[0m\u001b[0m\n\u001b[0m\u001b[0;32m      3\u001b[0m \u001b[1;32mfrom\u001b[0m \u001b[0mbokeh\u001b[0m\u001b[1;33m.\u001b[0m\u001b[0mio\u001b[0m \u001b[1;32mimport\u001b[0m \u001b[0moutput_notebook\u001b[0m\u001b[1;33m\u001b[0m\u001b[1;33m\u001b[0m\u001b[0m\n\u001b[0;32m      4\u001b[0m \u001b[1;32mfrom\u001b[0m \u001b[0mbokeh\u001b[0m\u001b[1;33m.\u001b[0m\u001b[0mclient\u001b[0m \u001b[1;32mimport\u001b[0m \u001b[0mpush_session\u001b[0m\u001b[1;33m\u001b[0m\u001b[1;33m\u001b[0m\u001b[0m\n\u001b[0;32m      5\u001b[0m \u001b[1;32mfrom\u001b[0m \u001b[0mbokeh\u001b[0m\u001b[1;33m.\u001b[0m\u001b[0mcore\u001b[0m\u001b[1;33m.\u001b[0m\u001b[0mstate\u001b[0m \u001b[1;32mimport\u001b[0m \u001b[0mState\u001b[0m \u001b[1;32mas\u001b[0m \u001b[0mnew\u001b[0m\u001b[1;33m\u001b[0m\u001b[1;33m\u001b[0m\u001b[0m\n",
      "\u001b[1;31mImportError\u001b[0m: cannot import name 'vplot' from 'bokeh.plotting' (C:\\Anaconda\\envs\\tfg-fises\\lib\\site-packages\\bokeh\\plotting\\__init__.py)"
     ]
    }
   ],
   "source": [
    "import numpy as np\n",
    "from bokeh.plotting import figure, show, gridplot, vplot, hplot, curdoc\n",
    "from bokeh.io import output_notebook\n",
    "from bokeh.client import push_session\n",
    "from bokeh.core.state import State as new\n",
    "\n",
    "# This is where the actual coding begins.\n",
    "b = np.random.rand(300, 3)\n",
    "xlist = b[:, 1]\n",
    "ylist = b[:, 2]\n",
    "\n",
    "# create a plot and style its properties.  Change chart title here.\n",
    "p = figure(title='PEG_PLGA15k_F68_R2_P81', title_text_font_size='13pt',\n",
    "       x_range=(min(xlist), max(xlist)), y_range=(min(ylist), max(ylist)),)\n",
    "\n",
    "# add a text renderer to out plot (no data yet)\n",
    "r = p.line(x=[], y=[], line_width=3, color='navy')\n",
    "\n",
    "session = push_session(curdoc())\n",
    "\n",
    "i = 0\n",
    "ds = r.data_source\n",
    "\n",
    "\n",
    "# create a callback that will add a number in a random location\n",
    "def callback():\n",
    "    global i\n",
    "    ds.data['x'].append(xlist[i])\n",
    "    ds.data['y'].append(ylist[i])\n",
    "    ds.trigger('data', ds.data, ds.data)\n",
    "    if i < xlist.shape[0] - 1:\n",
    "        i = i + 1\n",
    "    else:\n",
    "        new.reset()\n",
    "\n",
    "# Adds a new data point every 67 ms.  Change at user's discretion.\n",
    "curdoc().add_periodic_callback(callback, 67)\n",
    "\n",
    "session.show()\n",
    "\n",
    "session.loop_until_closed()"
   ]
  },
  {
   "cell_type": "code",
   "execution_count": null,
   "metadata": {},
   "outputs": [],
   "source": []
  }
 ],
 "metadata": {
  "kernelspec": {
   "display_name": "Python 3",
   "language": "python",
   "name": "python3"
  },
  "language_info": {
   "codemirror_mode": {
    "name": "ipython",
    "version": 3
   },
   "file_extension": ".py",
   "mimetype": "text/x-python",
   "name": "python",
   "nbconvert_exporter": "python",
   "pygments_lexer": "ipython3",
   "version": "3.7.7"
  }
 },
 "nbformat": 4,
 "nbformat_minor": 4
}
