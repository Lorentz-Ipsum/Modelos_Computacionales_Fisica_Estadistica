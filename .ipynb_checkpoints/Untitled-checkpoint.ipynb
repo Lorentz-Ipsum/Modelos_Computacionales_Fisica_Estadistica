{
 "cells": [
  {
   "cell_type": "code",
   "execution_count": 1,
   "metadata": {},
   "outputs": [],
   "source": [
    "import numpy as np\n",
    "\n",
    "def random_spin_field(N, M):\n",
    "    return np.random.choice([-1, 1], size = (N, M))\n",
    "\n",
    "from PIL import Image\n",
    "\n",
    "def display_spin_field(field):\n",
    "    # return Image.fromarray(field) # See docs. fromarray expects numbers 0..255\n",
    "    return Image.fromarray(np.uint8((field + 1) * 0.5 * 255)) # uint8 gives 8bit unassigned integer"
   ]
  },
  {
   "cell_type": "code",
   "execution_count": 5,
   "metadata": {},
   "outputs": [
    {
     "data": {
      "image/png": "[encoded data removed]",
      "text/plain": [
       "<PIL.Image.Image image mode=L size=100x50 at 0x1BCAEE72C08>"
      ]
     },
     "execution_count": 5,
     "metadata": {},
     "output_type": "execute_result"
    }
   ],
   "source": [
    "display_spin_field(random_spin_field(50,100))"
   ]
  },
  {
   "cell_type": "code",
   "execution_count": 6,
   "metadata": {},
   "outputs": [],
   "source": [
    "import matplotlib.pyplot as plt\n",
    "%matplotlib inline"
   ]
  },
  {
   "cell_type": "code",
   "execution_count": 7,
   "metadata": {},
   "outputs": [],
   "source": [
    "# imports\n",
    "from ipywidgets.widgets import Label, FloatProgress, FloatSlider, Button\n",
    "from ipywidgets.widgets import Layout, HBox, VBox\n",
    "from IPython.display import display\n",
    "import numpy as np\n",
    "import bqplot as bq\n",
    "import time\n",
    "import threading"
   ]
  },
  {
   "cell_type": "code",
   "execution_count": 8,
   "metadata": {},
   "outputs": [],
   "source": [
    "flag = True"
   ]
  },
  {
   "cell_type": "code",
   "execution_count": 9,
   "metadata": {},
   "outputs": [],
   "source": [
    "\n",
    "# stop button\n",
    "b_stop = Button(\n",
    "    description = 'Stop',\n",
    "    icon = 'stop',\n",
    "    button_style = 'warning',\n",
    "    layout = Layout( width = '100px')\n",
    ")\n",
    "\n",
    "def stop_click(b):\n",
    "    global flag\n",
    "    if flag == True:\n",
    "        flag = False\n",
    "    else:\n",
    "        flag = True\n",
    "    \n",
    "b_stop.on_click(stop_click)\n"
   ]
  },
  {
   "cell_type": "code",
   "execution_count": 14,
   "metadata": {},
   "outputs": [
    {
     "name": "stdout",
     "output_type": "stream",
     "text": [
      "False\n"
     ]
    }
   ],
   "source": [
    "b_stop\n",
    "print(flag)"
   ]
  },
  {
   "cell_type": "code",
   "execution_count": 13,
   "metadata": {},
   "outputs": [],
   "source": [
    "def work():\n",
    "    global flag\n",
    "    while flag:\n",
    "        display_spin_field(random_spin_field(50,100))"
   ]
  },
  {
   "cell_type": "code",
   "execution_count": null,
   "metadata": {},
   "outputs": [],
   "source": []
  }
 ],
 "metadata": {
  "kernelspec": {
   "display_name": "Python 3",
   "language": "python",
   "name": "python3"
  },
  "language_info": {
   "codemirror_mode": {
    "name": "ipython",
    "version": 3
   },
   "file_extension": ".py",
   "mimetype": "text/x-python",
   "name": "python",
   "nbconvert_exporter": "python",
   "pygments_lexer": "ipython3",
   "version": "3.7.7"
  }
 },
 "nbformat": 4,
 "nbformat_minor": 4
}
