{
 "cells": [
  {
   "cell_type": "markdown",
   "metadata": {},
   "source": [
    "# Primer intento\n"
   ]
  },
  {
   "cell_type": "markdown",
   "metadata": {},
   "source": [
    "## Números aleatorios"
   ]
  },
  {
   "cell_type": "markdown",
   "metadata": {},
   "source": [
    "Generar números aleatorios en python es fácil:"
   ]
  },
  {
   "cell_type": "code",
   "execution_count": 1,
   "metadata": {
    "ExecuteTime": {
     "end_time": "2020-07-13T15:46:38.131659Z",
     "start_time": "2020-07-13T15:46:38.115902Z"
    }
   },
   "outputs": [
    {
     "name": "stdout",
     "output_type": "stream",
     "text": [
      "[7, 8, 2, 5, 6, 9, 2, 3, 2, 5]\n"
     ]
    }
   ],
   "source": [
    "import random\n",
    "\n",
    "N = 10\n",
    "X = []\n",
    "\n",
    "for i in range(N):\n",
    "    X.append(random.randrange(1, N) )\n",
    "\n",
    "print(X)"
   ]
  },
  {
   "cell_type": "markdown",
   "metadata": {},
   "source": [
    "Pero podemos hacerlo mejor.\n",
    "Quería poder elegir la media y la variancia.\n",
    "\n",
    "Para ello he encontrado algunos links que debo ojear:\n",
    "\n",
    "- https://stackoverflow.com/questions/49855569/how-to-generate-random-numbers-to-satisfy-a-specific-mean-and-median-in-python\n",
    "- https://docs.scipy.org/doc/numpy-1.15.0/reference/generated/numpy.random.normal.html\n",
    "- https://docs.python.org/3/library/statistics.html\n",
    "\n",
    "\n",
    "Por ahora he usado la forma usada [aqui](https://stackoverflow.com/questions/8815706/random-number-with-specific-variance-in-python)"
   ]
  },
  {
   "cell_type": "code",
   "execution_count": 2,
   "metadata": {
    "ExecuteTime": {
     "end_time": "2020-07-13T15:46:38.151904Z",
     "start_time": "2020-07-13T15:46:38.131659Z"
    }
   },
   "outputs": [],
   "source": [
    "import math\n",
    "from random import gauss\n",
    "\n",
    "N = 100\n",
    "media = 0\n",
    "varianza = 10\n",
    "t = 20"
   ]
  },
  {
   "cell_type": "code",
   "execution_count": 3,
   "metadata": {
    "ExecuteTime": {
     "end_time": "2020-07-13T15:46:38.171619Z",
     "start_time": "2020-07-13T15:46:38.151904Z"
    }
   },
   "outputs": [
    {
     "name": "stdout",
     "output_type": "stream",
     "text": [
      "[-42.36894064235859, -17.075898189916515, 16.96536840555656, 18.91532784293874, 29.477853138939928, -28.707548808614693, -12.883782477745806, 18.834830575780654, -42.74214877455879, 3.496521398381343, 26.726128600204397, 40.24934674305141, 27.90315245468727, -17.791655642234282, 17.368218418208933, 4.309260312990564, 34.202226723584886, -3.2459117220259204, -10.32220255345673, -9.100833441420175]\n"
     ]
    }
   ],
   "source": [
    "ye = []\n",
    "for j in range(t):\n",
    "    X = [gauss(media, math.sqrt(varianza)) for i in range(N)]\n",
    "\n",
    "    Y = 0\n",
    "    for i in range(N):\n",
    "        Y = Y + X[i]\n",
    "    #print(Y)\n",
    "    ye.append(Y)\n",
    "\n",
    "print(ye)\n"
   ]
  },
  {
   "cell_type": "markdown",
   "metadata": {},
   "source": [
    "## Guardando a un .txt"
   ]
  },
  {
   "cell_type": "markdown",
   "metadata": {},
   "source": [
    "Ahora, quiero guardar estos datos en un archivo de texto. Quizás en la versión final para la web no haga falta, pero ahora es útil.\n",
    "\n",
    "Un sitio donde está bien explicado cómo crear y controlar archivos de texto desde python es https://www.guru99.com/reading-and-writing-files-in-python.html"
   ]
  },
  {
   "cell_type": "code",
   "execution_count": 4,
   "metadata": {
    "ExecuteTime": {
     "end_time": "2020-07-13T15:46:38.191739Z",
     "start_time": "2020-07-13T15:46:38.171619Z"
    }
   },
   "outputs": [],
   "source": [
    "file = open(\"example.txt\",\"w+\")\n",
    "\n",
    "for i in range(t):\n",
    "    file.write(str(i+1)+\",\"+str(ye[i])+\"\\n\")\n",
    "\n",
    "file.close()"
   ]
  },
  {
   "cell_type": "markdown",
   "metadata": {},
   "source": [
    "Quiero poder ver el archivo de texto creado en el propio notebook.\n",
    "Para eso, he sacado el siguiente código de https://stackoverflow.com/questions/13957025/how-to-upload-a-text-file-into-ipython-notebook"
   ]
  },
  {
   "cell_type": "code",
   "execution_count": 5,
   "metadata": {
    "ExecuteTime": {
     "end_time": "2020-07-13T15:46:38.211797Z",
     "start_time": "2020-07-13T15:46:38.191739Z"
    },
    "scrolled": true
   },
   "outputs": [
    {
     "name": "stdout",
     "output_type": "stream",
     "text": [
      "1,-42.36894064235859\n",
      "2,-17.075898189916515\n",
      "3,16.96536840555656\n",
      "4,18.91532784293874\n",
      "5,29.477853138939928\n",
      "6,-28.707548808614693\n",
      "7,-12.883782477745806\n",
      "8,18.834830575780654\n",
      "9,-42.74214877455879\n",
      "10,3.496521398381343\n",
      "11,26.726128600204397\n",
      "12,40.24934674305141\n",
      "13,27.90315245468727\n",
      "14,-17.791655642234282\n",
      "15,17.368218418208933\n",
      "16,4.309260312990564\n",
      "17,34.202226723584886\n",
      "18,-3.2459117220259204\n",
      "19,-10.32220255345673\n",
      "20,-9.100833441420175\n",
      "\n"
     ]
    }
   ],
   "source": [
    "text_file = open(\"example.txt\")\n",
    "file_content = text_file.read()\n",
    "print(file_content)\n",
    "text_file.close()"
   ]
  },
  {
   "cell_type": "markdown",
   "metadata": {},
   "source": [
    "## Animando la generación de números"
   ]
  },
  {
   "cell_type": "code",
   "execution_count": 15,
   "metadata": {
    "ExecuteTime": {
     "end_time": "2020-07-13T15:47:00.911879Z",
     "start_time": "2020-07-13T15:47:00.741953Z"
    }
   },
   "outputs": [
    {
     "data": {
      "image/png": "[encoded data removed]",
      "text/plain": [
       "<Figure size 432x288 with 1 Axes>"
      ]
     },
     "metadata": {},
     "output_type": "display_data"
    }
   ],
   "source": [
    "%matplotlib inline\n",
    "import matplotlib.pyplot as plt\n",
    "import matplotlib.animation as animation\n",
    "from matplotlib import style\n",
    "\n",
    "style.use('fivethirtyeight')\n",
    "\n",
    "fig = plt.figure()\n",
    "ax1 = fig.add_subplot(1,1,1)\n",
    "\n",
    "def animate(i):\n",
    "    graph_data = open('example.txt','r').read()\n",
    "    lines = graph_data.split('\\n')\n",
    "    xs = []\n",
    "    ys = []\n",
    "    for line in lines:\n",
    "        if len(line) > 1:\n",
    "            x, y = line.split(',')\n",
    "            xs.append(float(x))\n",
    "            ys.append(float(y))\n",
    "    ax1.clear()\n",
    "    ax1.plot(xs, ys)\n",
    "\n",
    "ani = animation.FuncAnimation(fig, animate, interval=1000)\n",
    "plt.show()\n"
   ]
  },
  {
   "cell_type": "code",
   "execution_count": 14,
   "metadata": {
    "ExecuteTime": {
     "end_time": "2020-07-13T15:46:57.377030Z",
     "start_time": "2020-07-13T15:46:57.362398Z"
    },
    "scrolled": true
   },
   "outputs": [
    {
     "name": "stdout",
     "output_type": "stream",
     "text": [
      "1,-42.36894064235859\n",
      "2,-17.075898189916515\n",
      "3,16.96536840555656\n",
      "4,18.91532784293874\n",
      "5,29.477853138939928\n",
      "6,-28.707548808614693\n",
      "7,-12.883782477745806\n",
      "8,18.834830575780654\n",
      "9,-42.74214877455879\n",
      "10,3.496521398381343\n",
      "11,26.726128600204397\n",
      "12,40.24934674305141\n",
      "13,27.90315245468727\n",
      "14,-17.791655642234282\n",
      "15,17.368218418208933\n",
      "16,4.309260312990564\n",
      "17,34.202226723584886\n",
      "18,-3.2459117220259204\n",
      "19,-10.32220255345673\n",
      "20,-9.100833441420175\n",
      "22,20\n",
      "22,20\n",
      "\n"
     ]
    }
   ],
   "source": [
    "file = open(\"example.txt\",\"a\")\n",
    "file.write(str(22)+\",\"+str(20)+\"\\n\")\n",
    "file.close()\n",
    "\n",
    "text_file = open(\"example.txt\")\n",
    "file_content = text_file.read()\n",
    "print(file_content)\n",
    "text_file.close()"
   ]
  },
  {
   "cell_type": "markdown",
   "metadata": {},
   "source": [
    "def animate(i):\n",
    "    xs = []\n",
    "    ys = []\n",
    "    for k in range(t):\n",
    "        xs.append(k)\n",
    "        ys.append(ye[k])\n",
    "    ax1.clear()\n",
    "    ax1.plot(xs, ys)\n"
   ]
  },
  {
   "cell_type": "markdown",
   "metadata": {},
   "source": [
    "## Gaussiana\n",
    "\n",
    "From [here](https://stackoverflow.com/questions/10138085/python-pylab-plot-normal-distribution)"
   ]
  },
  {
   "cell_type": "code",
   "execution_count": 16,
   "metadata": {
    "ExecuteTime": {
     "end_time": "2020-07-13T15:47:05.751568Z",
     "start_time": "2020-07-13T15:47:05.622826Z"
    },
    "scrolled": true
   },
   "outputs": [
    {
     "data": {
      "image/png": "[encoded data removed]",
      "text/plain": [
       "<Figure size 432x288 with 1 Axes>"
      ]
     },
     "metadata": {},
     "output_type": "display_data"
    }
   ],
   "source": [
    "import matplotlib.pyplot as plt\n",
    "import numpy as np\n",
    "import scipy.stats as stats\n",
    "import math\n",
    "\n",
    "mu = 0\n",
    "variance = 1\n",
    "sigma = math.sqrt(variance)\n",
    "x = np.linspace(mu - 3*sigma, mu + 3*sigma, 100)\n",
    "plt.plot(x, stats.norm.pdf(x, mu, sigma))\n",
    "plt.show()"
   ]
  },
  {
   "cell_type": "markdown",
   "metadata": {},
   "source": [
    "# Botones\n"
   ]
  },
  {
   "cell_type": "code",
   "execution_count": 17,
   "metadata": {
    "ExecuteTime": {
     "end_time": "2020-07-13T15:47:07.821663Z",
     "start_time": "2020-07-13T15:47:07.781803Z"
    }
   },
   "outputs": [
    {
     "data": {
      "application/vnd.jupyter.widget-view+json": {
       "model_id": "d72bea748cf648dd87528201879d3ffa",
       "version_major": 2,
       "version_minor": 0
      },
      "text/plain": [
       "Button(description='Click Me!', style=ButtonStyle())"
      ]
     },
     "metadata": {},
     "output_type": "display_data"
    },
    {
     "data": {
      "application/vnd.jupyter.widget-view+json": {
       "model_id": "8f9370ea848e49b3bc6a1d2b0f106521",
       "version_major": 2,
       "version_minor": 0
      },
      "text/plain": [
       "Output()"
      ]
     },
     "metadata": {},
     "output_type": "display_data"
    }
   ],
   "source": [
    "import ipywidgets as widgets\n",
    "from IPython.display import display\n",
    "button = widgets.Button(description=\"Click Me!\")\n",
    "output = widgets.Output()\n",
    "\n",
    "display(button, output)\n",
    "\n",
    "def on_button_clicked(b):\n",
    "    with output:\n",
    "        print(\"Button clicked.\")\n",
    "\n",
    "button.on_click(on_button_clicked)\n"
   ]
  },
  {
   "cell_type": "code",
   "execution_count": 18,
   "metadata": {
    "ExecuteTime": {
     "end_time": "2020-07-13T15:47:12.880324Z",
     "start_time": "2020-07-13T15:47:12.866333Z"
    }
   },
   "outputs": [
    {
     "data": {
      "application/vnd.jupyter.widget-view+json": {
       "model_id": "d9c40bcb211b41fa95d793272764cec7",
       "version_major": 2,
       "version_minor": 0
      },
      "text/plain": [
       "FloatProgress(value=0.0, max=1.0)"
      ]
     },
     "metadata": {},
     "output_type": "display_data"
    }
   ],
   "source": [
    "import threading\n",
    "from IPython.display import display\n",
    "import ipywidgets as widgets\n",
    "import time\n",
    "progress = widgets.FloatProgress(value=0.0, min=0.0, max=1.0)\n",
    "\n",
    "def work(progress):\n",
    "    total = 100\n",
    "    for i in range(total):\n",
    "        time.sleep(0.2)\n",
    "        progress.value = float(i+1)/total\n",
    "\n",
    "thread = threading.Thread(target=work, args=(progress,))\n",
    "display(progress)\n",
    "thread.start()"
   ]
  },
  {
   "cell_type": "code",
   "execution_count": 19,
   "metadata": {
    "ExecuteTime": {
     "end_time": "2020-07-13T15:47:15.831542Z",
     "start_time": "2020-07-13T15:47:15.661354Z"
    },
    "scrolled": true
   },
   "outputs": [
    {
     "name": "stdout",
     "output_type": "stream",
     "text": [
      "[-27.677318469174626, -26.05513730636836, 5.4075046676339475, 18.5132539897533, -15.905824317504472, 18.149050197560744, 10.06269865384887, 29.863080841194247, 13.520323063203959, -49.511529559249944, 28.228981620768465, -21.738431600864402, 45.09697523324421, 22.91140149130252, 72.2230180964885, 39.14333091235577, -52.76969041764531, 39.32810225032452, -64.6667579489056, -11.028611366438614]\n"
     ]
    },
    {
     "data": {
      "image/png": "[encoded data removed]",
      "text/plain": [
       "<Figure size 432x288 with 1 Axes>"
      ]
     },
     "metadata": {},
     "output_type": "display_data"
    }
   ],
   "source": [
    "%matplotlib inline\n",
    "\"\"\"\n",
    "import random\n",
    "\n",
    "N = 10\n",
    "X = []\n",
    "\n",
    "for i in range(N):\n",
    "    X.append(random.randrange(1, N) )\n",
    "\n",
    "print(X)\n",
    "\"\"\"\n",
    "\n",
    "import math\n",
    "from random import gauss\n",
    "\n",
    "N = 100\n",
    "media = 0\n",
    "varianza = 10\n",
    "t = 20\n",
    "ye = []\n",
    "\n",
    "\n",
    "import matplotlib.pyplot as plt\n",
    "import matplotlib.animation as animation\n",
    "from matplotlib import style\n",
    "\n",
    "style.use('fivethirtyeight')\n",
    "\n",
    "fig = plt.figure()\n",
    "ax1 = fig.add_subplot(1,1,1)\n",
    "\n",
    "def animate(i):\n",
    "    xs = []\n",
    "    ys = []\n",
    "    for k in range(t):\n",
    "        xs.append(k)\n",
    "        ys.append(ye[k])\n",
    "    ax1.clear()\n",
    "    ax1.plot(xs, ys)\n",
    "\n",
    "\"\"\"\n",
    "def animate(i):\n",
    "    graph_data = open('example.txt','r').read()\n",
    "    lines = graph_data.split('\\n')\n",
    "    xs = []\n",
    "    ys = []\n",
    "    for line in lines:\n",
    "        if len(line) > 1:\n",
    "            x, y = line.split(',')\n",
    "            xs.append(float(x))\n",
    "            ys.append(float(y))\n",
    "    ax1.clear()\n",
    "    ax1.plot(xs, ys)\n",
    "\"\"\"\n",
    "for j in range(t):\n",
    "    X = [gauss(media, math.sqrt(varianza)) for i in range(N)]\n",
    "\n",
    "    Y = 0\n",
    "    for i in range(N):\n",
    "        Y = Y + X[i]\n",
    "    #print(Y)\n",
    "    ye.append(Y)\n",
    "\n",
    "print(ye)\n",
    "\n",
    "ani = animation.FuncAnimation(fig, animate, interval=1000)\n",
    "plt.show()\n"
   ]
  },
  {
   "cell_type": "code",
   "execution_count": 20,
   "metadata": {
    "ExecuteTime": {
     "end_time": "2020-07-13T15:47:18.661738Z",
     "start_time": "2020-07-13T15:47:18.641880Z"
    }
   },
   "outputs": [
    {
     "data": {
      "application/vnd.jupyter.widget-view+json": {
       "model_id": "9f52e511d4404bfab2264e503c97d604",
       "version_major": 2,
       "version_minor": 0
      },
      "text/plain": [
       "Button(description='Click Me!', style=ButtonStyle())"
      ]
     },
     "metadata": {},
     "output_type": "display_data"
    },
    {
     "data": {
      "application/vnd.jupyter.widget-view+json": {
       "model_id": "b2731680284c4e9683fc6dd6be3ccf36",
       "version_major": 2,
       "version_minor": 0
      },
      "text/plain": [
       "Output()"
      ]
     },
     "metadata": {},
     "output_type": "display_data"
    }
   ],
   "source": [
    "import ipywidgets as widgets\n",
    "from IPython.display import display\n",
    "button = widgets.Button(description=\"Click Me!\")\n",
    "output = widgets.Output()\n",
    "\n",
    "display(button, output)\n",
    "\n",
    "def on_button_clicked(b):\n",
    "    with output:\n",
    "        print(\"Button clicked.\")\n",
    "\n",
    "button.on_click(on_button_clicked)\n"
   ]
  },
  {
   "cell_type": "code",
   "execution_count": null,
   "metadata": {},
   "outputs": [],
   "source": []
  }
 ],
 "metadata": {
  "hide_input": false,
  "kernelspec": {
   "display_name": "Python 3",
   "language": "python",
   "name": "python3"
  },
  "language_info": {
   "codemirror_mode": {
    "name": "ipython",
    "version": 3
   },
   "file_extension": ".py",
   "mimetype": "text/x-python",
   "name": "python",
   "nbconvert_exporter": "python",
   "pygments_lexer": "ipython3",
   "version": "3.7.7"
  },
  "toc": {
   "base_numbering": 1,
   "nav_menu": {},
   "number_sections": true,
   "sideBar": true,
   "skip_h1_title": false,
   "title_cell": "Table of Contents",
   "title_sidebar": "Contents",
   "toc_cell": false,
   "toc_position": {},
   "toc_section_display": true,
   "toc_window_display": true
  },
  "varInspector": {
   "cols": {
    "lenName": 16,
    "lenType": 16,
    "lenVar": 40
   },
   "kernels_config": {
    "python": {
     "delete_cmd_postfix": "",
     "delete_cmd_prefix": "del ",
     "library": "var_list.py",
     "varRefreshCmd": "print(var_dic_list())"
    },
    "r": {
     "delete_cmd_postfix": ") ",
     "delete_cmd_prefix": "rm(",
     "library": "var_list.r",
     "varRefreshCmd": "cat(var_dic_list()) "
    }
   },
   "types_to_exclude": [
    "module",
    "function",
    "builtin_function_or_method",
    "instance",
    "_Feature"
   ],
   "window_display": false
  }
 },
 "nbformat": 4,
 "nbformat_minor": 4
}
